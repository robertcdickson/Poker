{
 "cells": [
  {
   "cell_type": "code",
   "execution_count": 1,
   "metadata": {
    "collapsed": true
   },
   "outputs": [],
   "source": [
    "from pokerstars import PokerStarsCollection"
   ]
  },
  {
   "cell_type": "code",
   "execution_count": 2,
   "outputs": [],
   "source": [
    "poker_session = PokerStarsCollection(file=\"../example_data/multigame_example_anonymized.txt\",\n",
    "                   working_dir=r\"C:\\Users\\rd71\\PycharmProjects\\Poker\\pokerstars\\Multitest\")"
   ],
   "metadata": {
    "collapsed": false,
    "pycharm": {
     "name": "#%%\n"
    }
   }
  },
  {
   "cell_type": "code",
   "execution_count": 3,
   "outputs": [
    {
     "name": "stdout",
     "output_type": "stream",
     "text": [
      "Poker Game #0\n",
      "-------------------------\n",
      "Winners: Sleve_McDichael \n",
      "Winning Cards: Not Shown\n",
      "Table Cards: 9s 6h 7h\n",
      "-------------------------\n",
      "\n",
      "Poker Game #1\n",
      "------------------------\n",
      "Winners: Willie_Dustice \n",
      "Winning Cards: Not Shown\n",
      "Table Cards: Not dealt\n",
      "------------------------\n",
      "\n",
      "Poker Game #2\n",
      "------------------------\n",
      "Winners: Bobson_Dugnutt \n",
      "Winning Cards: Not Shown\n",
      "Table Cards: Not dealt\n",
      "------------------------\n",
      "\n",
      "Poker Game #3\n",
      "--------------------------\n",
      "Winners: Karl_Dandleton \n",
      "Winning Cards: Not Shown\n",
      "Table Cards: Ks 6c 7h 6d\n",
      "--------------------------\n",
      "\n",
      "Poker Game #4\n",
      "--------------------------\n",
      "Winners: Bobson_Dugnutt \n",
      "Winning Cards: Not Shown\n",
      "Table Cards: Qh 7c Ks 4h\n",
      "--------------------------\n",
      "\n",
      "Poker Game #5\n",
      "------------------------\n",
      "Winners: Bobson_Dugnutt \n",
      "Winning Cards: Not Shown\n",
      "Table Cards: 7h Js 3h\n",
      "------------------------\n",
      "\n",
      "Poker Game #6\n",
      "-----------------------\n",
      "Winners: Todd_Bonzalez \n",
      "Winning Cards: Not Shown\n",
      "Table Cards: 9c Qh 7s\n",
      "-----------------------\n",
      "\n",
      "Poker Game #7\n",
      "--------------------------\n",
      "Winners: Darryl_Archideld \n",
      "Winning Cards: Not Shown\n",
      "Table Cards: Not dealt\n",
      "--------------------------\n",
      "\n",
      "Poker Game #8\n",
      "-------------------------\n",
      "Winners: Sleve_McDichael \n",
      "Winning Cards: Not Shown\n",
      "Table Cards: Not dealt\n",
      "-------------------------\n",
      "\n",
      "Poker Game #9\n",
      "-----------------------------\n",
      "Winners: Mike_Truk \n",
      "Winning Cards: Js Jc\n",
      "Table Cards: 5d 2c 5c 8s 7c\n",
      "-----------------------------\n",
      "\n",
      "Poker Game #10\n",
      "--------------------------\n",
      "Winners: Darryl_Archideld \n",
      "Winning Cards: Not Shown\n",
      "Table Cards: Jd 4c Th\n",
      "--------------------------\n",
      "\n",
      "Poker Game #11\n",
      "-------------------------\n",
      "Winners: Sleve_McDichael \n",
      "Winning Cards: Not Shown\n",
      "Table Cards: Not dealt\n",
      "-------------------------\n",
      "\n",
      "Poker Game #12\n",
      "--------------------------\n",
      "Winners: Darryl_Archideld \n",
      "Winning Cards: Not Shown\n",
      "Table Cards: Kh 3c 4s 9c\n",
      "--------------------------\n",
      "\n",
      "Poker Game #13\n",
      "-----------------------------\n",
      "Winners: Mike_Truk \n",
      "Winning Cards: Qd Qc\n",
      "Table Cards: 4s 9d Ts 3d 3s\n",
      "-----------------------------\n",
      "\n"
     ]
    }
   ],
   "source": [
    "for game in poker_session.games_data.values():\n",
    "    print(game)\n"
   ],
   "metadata": {
    "collapsed": false,
    "pycharm": {
     "name": "#%%\n"
    }
   }
  },
  {
   "cell_type": "code",
   "execution_count": 4,
   "outputs": [
    {
     "name": "stdout",
     "output_type": "stream",
     "text": [
      "Poker Game #2\n",
      "------------------------\n",
      "Winners: Bobson_Dugnutt \n",
      "Winning Cards: Not Shown\n",
      "Table Cards: Not dealt\n",
      "------------------------\n",
      "\n",
      "Poker Game #4\n",
      "--------------------------\n",
      "Winners: Bobson_Dugnutt \n",
      "Winning Cards: Not Shown\n",
      "Table Cards: Qh 7c Ks 4h\n",
      "--------------------------\n",
      "\n",
      "Poker Game #5\n",
      "------------------------\n",
      "Winners: Bobson_Dugnutt \n",
      "Winning Cards: Not Shown\n",
      "Table Cards: 7h Js 3h\n",
      "------------------------\n",
      "\n"
     ]
    }
   ],
   "source": [
    "for game in poker_session.games_data.values():\n",
    "    if \"Bobson_Dugnutt\" in game.winners:\n",
    "        print(game)"
   ],
   "metadata": {
    "collapsed": false,
    "pycharm": {
     "name": "#%%\n"
    }
   }
  },
  {
   "cell_type": "code",
   "execution_count": 5,
   "outputs": [
    {
     "ename": "AttributeError",
     "evalue": "'Player' object has no attribute 'card_values'",
     "output_type": "error",
     "traceback": [
      "\u001B[0;31m---------------------------------------------------------------------------\u001B[0m",
      "\u001B[0;31mAttributeError\u001B[0m                            Traceback (most recent call last)",
      "\u001B[0;32m<ipython-input-5-218c56b0c7a7>\u001B[0m in \u001B[0;36m<module>\u001B[0;34m\u001B[0m\n\u001B[1;32m     15\u001B[0m \u001B[0;34m\u001B[0m\u001B[0m\n\u001B[1;32m     16\u001B[0m \u001B[0mopponents\u001B[0m\u001B[0;34m.\u001B[0m\u001B[0mupdate\u001B[0m\u001B[0;34m(\u001B[0m\u001B[0magainst\u001B[0m\u001B[0;34m)\u001B[0m\u001B[0;34m\u001B[0m\u001B[0;34m\u001B[0m\u001B[0m\n\u001B[0;32m---> 17\u001B[0;31m \u001B[0mx\u001B[0m \u001B[0;34m=\u001B[0m \u001B[0mbobson_winning_games\u001B[0m\u001B[0;34m[\u001B[0m\u001B[0;36m4\u001B[0m\u001B[0;34m]\u001B[0m\u001B[0;34m.\u001B[0m\u001B[0msimulate_game\u001B[0m\u001B[0;34m(\u001B[0m\u001B[0mplayers\u001B[0m\u001B[0;34m=\u001B[0m\u001B[0mopponents\u001B[0m\u001B[0;34m,\u001B[0m \u001B[0mn\u001B[0m\u001B[0;34m=\u001B[0m\u001B[0;36m10000\u001B[0m\u001B[0;34m,\u001B[0m \u001B[0muse_table_cards\u001B[0m\u001B[0;34m=\u001B[0m\u001B[0;32mFalse\u001B[0m\u001B[0;34m,\u001B[0m \u001B[0mtable_card_length\u001B[0m\u001B[0;34m=\u001B[0m\u001B[0;36m5\u001B[0m\u001B[0;34m)\u001B[0m\u001B[0;34m\u001B[0m\u001B[0;34m\u001B[0m\u001B[0m\n\u001B[0m\u001B[1;32m     18\u001B[0m \u001B[0mprint\u001B[0m\u001B[0;34m(\u001B[0m\u001B[0;34mf\"Percentage chance of {opponents['Bobson_Dugnutt']} beating suited {6}, {6 + 1}  is {x[0]}\"\u001B[0m\u001B[0;34m)\u001B[0m\u001B[0;34m\u001B[0m\u001B[0;34m\u001B[0m\u001B[0m\n",
      "\u001B[0;32m~/PycharmProjects/Non-Work/Poker/src/pokerstars.py\u001B[0m in \u001B[0;36msimulate_game\u001B[0;34m(self, players, n, use_table_cards, table_card_length)\u001B[0m\n\u001B[1;32m    120\u001B[0m             \u001B[0;31m# get ranking of each hand with the set of table cards\u001B[0m\u001B[0;34m\u001B[0m\u001B[0;34m\u001B[0m\u001B[0;34m\u001B[0m\u001B[0m\n\u001B[1;32m    121\u001B[0m             \u001B[0;32mfor\u001B[0m \u001B[0mname\u001B[0m\u001B[0;34m,\u001B[0m \u001B[0mplayer_cards\u001B[0m \u001B[0;32min\u001B[0m \u001B[0mplayers\u001B[0m\u001B[0;34m.\u001B[0m\u001B[0mitems\u001B[0m\u001B[0;34m(\u001B[0m\u001B[0;34m)\u001B[0m\u001B[0;34m:\u001B[0m\u001B[0;34m\u001B[0m\u001B[0;34m\u001B[0m\u001B[0m\n\u001B[0;32m--> 122\u001B[0;31m                 \u001B[0mopponent_ranking\u001B[0m \u001B[0;34m=\u001B[0m \u001B[0mPlayer\u001B[0m\u001B[0;34m(\u001B[0m\u001B[0mplayer_cards\u001B[0m\u001B[0;34m,\u001B[0m \u001B[0mself\u001B[0m\u001B[0;34m.\u001B[0m\u001B[0mtable_cards\u001B[0m\u001B[0;34m)\u001B[0m\u001B[0;34m.\u001B[0m\u001B[0manalyse_cards\u001B[0m\u001B[0;34m(\u001B[0m\u001B[0;34m)\u001B[0m\u001B[0;34m\u001B[0m\u001B[0;34m\u001B[0m\u001B[0m\n\u001B[0m\u001B[1;32m    123\u001B[0m                 \u001B[0mranking_dict\u001B[0m\u001B[0;34m[\u001B[0m\u001B[0mname\u001B[0m\u001B[0;34m]\u001B[0m \u001B[0;34m=\u001B[0m \u001B[0;34m(\u001B[0m\u001B[0mopponent_ranking\u001B[0m\u001B[0;34m[\u001B[0m\u001B[0;36m0\u001B[0m\u001B[0;34m]\u001B[0m\u001B[0;34m,\u001B[0m \u001B[0mopponent_ranking\u001B[0m\u001B[0;34m[\u001B[0m\u001B[0;36m1\u001B[0m\u001B[0;34m]\u001B[0m\u001B[0;34m)\u001B[0m\u001B[0;34m\u001B[0m\u001B[0;34m\u001B[0m\u001B[0m\n\u001B[1;32m    124\u001B[0m \u001B[0;34m\u001B[0m\u001B[0m\n",
      "\u001B[0;32m~/PycharmProjects/Non-Work/Poker/src/poker_main.py\u001B[0m in \u001B[0;36manalyse_cards\u001B[0;34m(self)\u001B[0m\n\u001B[1;32m    350\u001B[0m \u001B[0;34m\u001B[0m\u001B[0m\n\u001B[1;32m    351\u001B[0m         \u001B[0;31m# check for straight\u001B[0m\u001B[0;34m\u001B[0m\u001B[0;34m\u001B[0m\u001B[0;34m\u001B[0m\u001B[0m\n\u001B[0;32m--> 352\u001B[0;31m         \u001B[0mstraight_cards\u001B[0m\u001B[0;34m,\u001B[0m \u001B[0mhand_ranking\u001B[0m\u001B[0;34m,\u001B[0m \u001B[0mstraight_ranking\u001B[0m \u001B[0;34m=\u001B[0m \u001B[0mself\u001B[0m\u001B[0;34m.\u001B[0m\u001B[0mstraight_check\u001B[0m\u001B[0;34m(\u001B[0m\u001B[0;34m)\u001B[0m\u001B[0;34m\u001B[0m\u001B[0;34m\u001B[0m\u001B[0m\n\u001B[0m\u001B[1;32m    353\u001B[0m \u001B[0;34m\u001B[0m\u001B[0m\n\u001B[1;32m    354\u001B[0m         \u001B[0;32mif\u001B[0m \u001B[0mstraight_cards\u001B[0m\u001B[0;34m:\u001B[0m\u001B[0;34m\u001B[0m\u001B[0;34m\u001B[0m\u001B[0m\n",
      "\u001B[0;32m~/PycharmProjects/Non-Work/Poker/src/poker_main.py\u001B[0m in \u001B[0;36mstraight_check\u001B[0;34m(self)\u001B[0m\n\u001B[1;32m    270\u001B[0m \u001B[0;34m\u001B[0m\u001B[0m\n\u001B[1;32m    271\u001B[0m         \"\"\"\n\u001B[0;32m--> 272\u001B[0;31m         \u001B[0;32mif\u001B[0m \u001B[0;32mnot\u001B[0m \u001B[0mlen\u001B[0m\u001B[0;34m(\u001B[0m\u001B[0mset\u001B[0m\u001B[0;34m(\u001B[0m\u001B[0mself\u001B[0m\u001B[0;34m.\u001B[0m\u001B[0mcard_values\u001B[0m\u001B[0;34m)\u001B[0m\u001B[0;34m)\u001B[0m \u001B[0;34m>\u001B[0m \u001B[0;36m4\u001B[0m\u001B[0;34m:\u001B[0m\u001B[0;34m\u001B[0m\u001B[0;34m\u001B[0m\u001B[0m\n\u001B[0m\u001B[1;32m    273\u001B[0m             \u001B[0;32mreturn\u001B[0m \u001B[0;32mNone\u001B[0m\u001B[0;34m,\u001B[0m \u001B[0;32mNone\u001B[0m\u001B[0;34m,\u001B[0m \u001B[0;32mNone\u001B[0m\u001B[0;34m\u001B[0m\u001B[0;34m\u001B[0m\u001B[0m\n\u001B[1;32m    274\u001B[0m \u001B[0;34m\u001B[0m\u001B[0m\n",
      "\u001B[0;31mAttributeError\u001B[0m: 'Player' object has no attribute 'card_values'"
     ]
    }
   ],
   "source": [
    "# Bobson_Winners 2\n",
    "\n",
    "bobson_winning_games = poker_session.winning_games(winner=\"Bobson_Dugnutt\")\n",
    "\n",
    "\n",
    "opponents = {poker_session.games_data[3].hero: poker_session.games_data[3].player_cards}\n",
    "\n",
    "analysis = {}\n",
    "\n",
    "against = {\n",
    "        \"suited_connectors\": [(6, 'clubs'), (6 + 1, 'clubs')],\n",
    "        \"unsuited_connectors\": [(6, 'spades'), (6 + 1, 'clubs')],\n",
    "        \"pairs\": [(6, 'spades'), (6, 'clubs')]\n",
    "    }\n",
    "\n",
    "opponents.update(against)\n",
    "x = bobson_winning_games[4].simulate_game(players=opponents, n=10000, use_table_cards=False, table_card_length=5)\n",
    "print(f\"Percentage chance of {opponents['Bobson_Dugnutt']} beating suited {6}, {6 + 1}  is {x[0]}\")"
   ],
   "metadata": {
    "collapsed": false,
    "pycharm": {
     "name": "#%%\n"
    }
   }
  }
 ],
 "metadata": {
  "kernelspec": {
   "display_name": "Python 3",
   "language": "python",
   "name": "python3"
  },
  "language_info": {
   "codemirror_mode": {
    "name": "ipython",
    "version": 2
   },
   "file_extension": ".py",
   "mimetype": "text/x-python",
   "name": "python",
   "nbconvert_exporter": "python",
   "pygments_lexer": "ipython2",
   "version": "2.7.6"
  }
 },
 "nbformat": 4,
 "nbformat_minor": 0
}