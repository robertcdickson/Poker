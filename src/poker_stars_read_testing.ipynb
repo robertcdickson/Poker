{
 "cells": [
  {
   "cell_type": "code",
   "execution_count": 6,
   "metadata": {
    "collapsed": true
   },
   "outputs": [],
   "source": [
    "from pokerstars import PokerStarsCollection"
   ]
  },
  {
   "cell_type": "code",
   "execution_count": 7,
   "outputs": [],
   "source": [
    "poker_session = PokerStarsCollection(file=\"../example_data/multigame_example_anonymized.txt\",\n",
    "                   working_dir=r\"C:\\Users\\rd71\\PycharmProjects\\Poker\\pokerstars\\Multitest\")"
   ],
   "metadata": {
    "collapsed": false,
    "pycharm": {
     "name": "#%%\n"
    }
   }
  },
  {
   "cell_type": "code",
   "execution_count": 8,
   "outputs": [
    {
     "name": "stdout",
     "output_type": "stream",
     "text": [
      "Poker Game #0\n",
      "-------------------------\n",
      "Winners: Sleve_McDichael \n",
      "Winning Cards: Not Shown\n",
      "Table Cards: 9s 6h 7h\n",
      "-------------------------\n",
      "\n",
      "Poker Game #1\n",
      "------------------------\n",
      "Winners: Willie_Dustice \n",
      "Winning Cards: Not Shown\n",
      "Table Cards: Not dealt\n",
      "------------------------\n",
      "\n",
      "Poker Game #2\n",
      "------------------------\n",
      "Winners: Bobson_Dugnutt \n",
      "Winning Cards: Not Shown\n",
      "Table Cards: Not dealt\n",
      "------------------------\n",
      "\n",
      "Poker Game #3\n",
      "--------------------------\n",
      "Winners: Karl_Dandleton \n",
      "Winning Cards: Not Shown\n",
      "Table Cards: Ks 6c 7h 6d\n",
      "--------------------------\n",
      "\n",
      "Poker Game #4\n",
      "--------------------------\n",
      "Winners: Bobson_Dugnutt \n",
      "Winning Cards: Not Shown\n",
      "Table Cards: Qh 7c Ks 4h\n",
      "--------------------------\n",
      "\n",
      "Poker Game #5\n",
      "------------------------\n",
      "Winners: Bobson_Dugnutt \n",
      "Winning Cards: Not Shown\n",
      "Table Cards: 7h Js 3h\n",
      "------------------------\n",
      "\n",
      "Poker Game #6\n",
      "-----------------------\n",
      "Winners: Todd_Bonzalez \n",
      "Winning Cards: Not Shown\n",
      "Table Cards: 9c Qh 7s\n",
      "-----------------------\n",
      "\n",
      "Poker Game #7\n",
      "--------------------------\n",
      "Winners: Darryl_Archideld \n",
      "Winning Cards: Not Shown\n",
      "Table Cards: Not dealt\n",
      "--------------------------\n",
      "\n",
      "Poker Game #8\n",
      "-------------------------\n",
      "Winners: Sleve_McDichael \n",
      "Winning Cards: Not Shown\n",
      "Table Cards: Not dealt\n",
      "-------------------------\n",
      "\n",
      "Poker Game #9\n",
      "-----------------------------\n",
      "Winners: Mike_Truk \n",
      "Winning Cards: Js Jc\n",
      "Table Cards: 5d 2c 5c 8s 7c\n",
      "-----------------------------\n",
      "\n",
      "Poker Game #10\n",
      "--------------------------\n",
      "Winners: Darryl_Archideld \n",
      "Winning Cards: Not Shown\n",
      "Table Cards: Jd 4c Th\n",
      "--------------------------\n",
      "\n",
      "Poker Game #11\n",
      "-------------------------\n",
      "Winners: Sleve_McDichael \n",
      "Winning Cards: Not Shown\n",
      "Table Cards: Not dealt\n",
      "-------------------------\n",
      "\n",
      "Poker Game #12\n",
      "--------------------------\n",
      "Winners: Darryl_Archideld \n",
      "Winning Cards: Not Shown\n",
      "Table Cards: Kh 3c 4s 9c\n",
      "--------------------------\n",
      "\n",
      "Poker Game #13\n",
      "-----------------------------\n",
      "Winners: Mike_Truk \n",
      "Winning Cards: Qd Qc\n",
      "Table Cards: 4s 9d Ts 3d 3s\n",
      "-----------------------------\n",
      "\n"
     ]
    }
   ],
   "source": [
    "for game in poker_session.games_data.values():\n",
    "    print(game)\n"
   ],
   "metadata": {
    "collapsed": false,
    "pycharm": {
     "name": "#%%\n"
    }
   }
  },
  {
   "cell_type": "code",
   "execution_count": 9,
   "outputs": [
    {
     "name": "stdout",
     "output_type": "stream",
     "text": [
      "Poker Game #2\n",
      "------------------------\n",
      "Winners: Bobson_Dugnutt \n",
      "Winning Cards: Not Shown\n",
      "Table Cards: Not dealt\n",
      "------------------------\n",
      "\n",
      "Poker Game #4\n",
      "--------------------------\n",
      "Winners: Bobson_Dugnutt \n",
      "Winning Cards: Not Shown\n",
      "Table Cards: Qh 7c Ks 4h\n",
      "--------------------------\n",
      "\n",
      "Poker Game #5\n",
      "------------------------\n",
      "Winners: Bobson_Dugnutt \n",
      "Winning Cards: Not Shown\n",
      "Table Cards: 7h Js 3h\n",
      "------------------------\n",
      "\n"
     ]
    }
   ],
   "source": [
    "for game in poker_session.games_data.values():\n",
    "    if \"Bobson_Dugnutt\" in game.winners:\n",
    "        print(game)"
   ],
   "metadata": {
    "collapsed": false,
    "pycharm": {
     "name": "#%%\n"
    }
   }
  },
  {
   "cell_type": "code",
   "execution_count": 11,
   "outputs": [
    {
     "name": "stdout",
     "output_type": "stream",
     "text": [
      "Percentage chance of [(14, 'clubs'), (11, 'hearts')] beating suited 6, 7  is {'Bobson_Dugnutt': 0.0, 'suited_connectors': 0.0, 'unsuited_connectors': 0.0, 'pairs': 100.0}\n"
     ]
    }
   ],
   "source": [
    "# Bobson_Winners 2\n",
    "\n",
    "bobson_winning_games = poker_session.winning_games(winner=\"Bobson_Dugnutt\")\n",
    "\n",
    "\n",
    "opponents = {poker_session.games_data[3].hero: poker_session.games_data[3].player_cards}\n",
    "\n",
    "analysis = {}\n",
    "\n",
    "against = {\n",
    "        \"suited_connectors\": [(6, 'clubs'), (6 + 1, 'clubs')],\n",
    "        \"unsuited_connectors\": [(6, 'spades'), (6 + 1, 'clubs')],\n",
    "        \"pairs\": [(6, 'spades'), (6, 'clubs')]\n",
    "    }\n",
    "\n",
    "opponents.update(against)\n",
    "x = bobson_winning_games[4].simulate_game(players=opponents, n=10000, use_table_cards=False, table_card_length=5)\n",
    "print(f\"Percentage chance of {opponents['Bobson_Dugnutt']} beating suited {6}, {6 + 1}  is {x[0]}\")"
   ],
   "metadata": {
    "collapsed": false,
    "pycharm": {
     "name": "#%%\n"
    }
   }
  }
 ],
 "metadata": {
  "kernelspec": {
   "display_name": "Python 3",
   "language": "python",
   "name": "python3"
  },
  "language_info": {
   "codemirror_mode": {
    "name": "ipython",
    "version": 2
   },
   "file_extension": ".py",
   "mimetype": "text/x-python",
   "name": "python",
   "nbconvert_exporter": "python",
   "pygments_lexer": "ipython2",
   "version": "2.7.6"
  }
 },
 "nbformat": 4,
 "nbformat_minor": 0
}