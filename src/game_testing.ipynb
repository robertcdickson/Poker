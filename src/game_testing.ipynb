{
 "cells": [
  {
   "cell_type": "code",
   "execution_count": 2,
   "metadata": {
    "collapsed": true,
    "pycharm": {
     "name": "#%%\n"
    }
   },
   "outputs": [
    {
     "name": "stdout",
     "output_type": "stream",
     "text": [
      "========================================\n",
      "a: 5♣4♥\n",
      "b: 6♠7♠\n",
      "c: 7♥6♥\n",
      "========================================\n",
      "b posts small blind\n",
      "c posts big blind\n",
      "========================================\n",
      "                pre-flop                \n",
      "========================================\n",
      "a fold\n",
      "b raise to 25\n",
      "c raise to 50\n",
      "b call\n",
      "----------------------------------------\n",
      "Pot size is 100.0 BB\n",
      "========================================\n",
      "Flop cards: 5♦K♦4♠\n",
      "========================================\n",
      "               post-flop                \n",
      "========================================\n",
      "b check\n",
      "c raise to 100\n",
      "b call\n",
      "----------------------------------------\n",
      "Pot size is 300.0 BB\n",
      "========================================\n",
      "Turn card: 3♣\n",
      "========================================\n",
      "                  turn                  \n",
      "========================================\n",
      "b check\n",
      "c check\n",
      "----------------------------------------\n",
      "Pot size is 300.0 BB\n",
      "========================================\n",
      "River card: K♥\n",
      "========================================\n",
      "                 river                  \n",
      "========================================\n",
      "b check\n",
      "c check\n",
      "----------------------------------------\n",
      "Pot size is 300.0 BB\n",
      "========================================\n"
     ]
    },
    {
     "data": {
      "text/plain": "{'a': (2, 13, [K♦, 4♠, K♥, 4♥]),\n 'b': (4, 7, [7, 6, 3, 4, 5]),\n 'c': (4, 7, [6, 7, 3, 4, 5])}"
     },
     "execution_count": 2,
     "metadata": {},
     "output_type": "execute_result"
    }
   ],
   "source": [
    "from poker_main import *\n",
    "\n",
    "players = [\n",
    "\n",
    "        Player(\"a\", chips=10, current_position=\"BTN\", pre_flop=[\"fold\"]),\n",
    "        Player(\"b\", chips=1000, current_position=\"SB\", pre_flop=[\"raise to 25\", \"call\"], post_flop=[\"check\", \"call\"], turn=[\"check\"], river=[\"check\"]),\n",
    "        Player(\"c\", chips=1000, current_position=\"BB\", pre_flop=[\"raise to 50\", \"fold\"], post_flop=[\"raise to 100\"], turn=[\"check\"], river=[\"check\"]),\n",
    "\n",
    "           ]\n",
    "\n",
    "game = Poker(players)\n",
    "\n",
    "game.play_game()\n",
    "\n",
    "analysis = BoardAnalysis(players, game.table_cards)\n",
    "analysis.analyse_cards()\n"
   ]
  }
 ],
 "metadata": {
  "kernelspec": {
   "display_name": "Python 3",
   "language": "python",
   "name": "python3"
  },
  "language_info": {
   "codemirror_mode": {
    "name": "ipython",
    "version": 2
   },
   "file_extension": ".py",
   "mimetype": "text/x-python",
   "name": "python",
   "nbconvert_exporter": "python",
   "pygments_lexer": "ipython2",
   "version": "2.7.6"
  }
 },
 "nbformat": 4,
 "nbformat_minor": 0
}