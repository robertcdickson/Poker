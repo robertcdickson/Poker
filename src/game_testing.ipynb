{
 "cells": [
  {
   "cell_type": "code",
   "execution_count": 1,
   "metadata": {
    "collapsed": true,
    "pycharm": {
     "name": "#%%\n"
    }
   },
   "outputs": [
    {
     "data": {
      "text/plain": "'players = [\\n\\n        Player(\"a\", chips=10, current_position=\"BTN\", pre_flop=[\"fold\"]),\\n        Player(\"b\", chips=1000, current_position=\"SB\", pre_flop=[\"raise to 25\", \"call\"], post_flop=[\"check\", \"call\"], turn=[\"check\"], river=[\"check\"]),\\n        Player(\"c\", chips=1000, current_position=\"BB\", pre_flop=[\"raise to 50\", \"fold\"], post_flop=[\"raise to 100\"], turn=[\"check\"], river=[\"check\"]),\\n\\n           ]\\n\\ngame = Poker(players)\\n\\ngame.play_game()\\n'"
     },
     "execution_count": 1,
     "metadata": {},
     "output_type": "execute_result"
    }
   ],
   "source": [
    "from poker_main import *\n",
    "\n",
    "\"\"\"players = [\n",
    "\n",
    "        Player(\"a\", chips=10, current_position=\"BTN\", pre_flop=[\"fold\"]),\n",
    "        Player(\"b\", chips=1000, current_position=\"SB\", pre_flop=[\"raise to 25\", \"call\"], post_flop=[\"check\", \"call\"], turn=[\"check\"], river=[\"check\"]),\n",
    "        Player(\"c\", chips=1000, current_position=\"BB\", pre_flop=[\"raise to 50\", \"fold\"], post_flop=[\"raise to 100\"], turn=[\"check\"], river=[\"check\"]),\n",
    "\n",
    "           ]\n",
    "\n",
    "game = Poker(players)\n",
    "\n",
    "game.play_game()\n",
    "\"\"\""
   ]
  },
  {
   "cell_type": "code",
   "execution_count": 2,
   "outputs": [
    {
     "name": "stdout",
     "output_type": "stream",
     "text": [
      "(0, [9♣, 8♣], 9, [9, 8])\n",
      "(1, [A♥, A♥], 14, [])\n",
      "(2, [2♥, 2♠, 3♥, 3♣], 3, [])\n",
      "(3, [2♥, 2♠, 2♦], 2, [])\n",
      "(4, [T♦, J♠, Q♦, K♠, A♥], 14, [10, 11, 12, 13, 14])\n",
      "(4, [2♠, 3♦, 4♠, 5♦, A♥], 14, [5, 4, 3, 2, 14])\n"
     ]
    },
    {
     "ename": "IndexError",
     "evalue": "list index out of range",
     "output_type": "error",
     "traceback": [
      "\u001B[0;31m---------------------------------------------------------------------------\u001B[0m",
      "\u001B[0;31mIndexError\u001B[0m                                Traceback (most recent call last)",
      "\u001B[0;32m/tmp/ipykernel_9121/169429612.py\u001B[0m in \u001B[0;36m<module>\u001B[0;34m\u001B[0m\n\u001B[1;32m     11\u001B[0m            ]\n\u001B[1;32m     12\u001B[0m \u001B[0mtable_cards\u001B[0m \u001B[0;34m=\u001B[0m \u001B[0;34m[\u001B[0m\u001B[0;34m]\u001B[0m\u001B[0;34m\u001B[0m\u001B[0;34m\u001B[0m\u001B[0m\n\u001B[0;32m---> 13\u001B[0;31m \u001B[0manalysis\u001B[0m \u001B[0;34m=\u001B[0m \u001B[0mBoardAnalysis\u001B[0m\u001B[0;34m(\u001B[0m\u001B[0mplayers\u001B[0m\u001B[0;34m,\u001B[0m \u001B[0mtable_cards\u001B[0m\u001B[0;34m)\u001B[0m\u001B[0;34m\u001B[0m\u001B[0;34m\u001B[0m\u001B[0m\n\u001B[0m\u001B[1;32m     14\u001B[0m \u001B[0mprint\u001B[0m\u001B[0;34m(\u001B[0m\u001B[0manalysis\u001B[0m\u001B[0;34m.\u001B[0m\u001B[0mwinners\u001B[0m\u001B[0;34m)\u001B[0m\u001B[0;34m\u001B[0m\u001B[0;34m\u001B[0m\u001B[0m\n\u001B[1;32m     15\u001B[0m \u001B[0;34m\u001B[0m\u001B[0m\n",
      "\u001B[0;32m~/PycharmProjects/Poker/src/poker_main.py\u001B[0m in \u001B[0;36m__init__\u001B[0;34m(self, players, table_cards)\u001B[0m\n\u001B[1;32m    474\u001B[0m         \u001B[0mself\u001B[0m\u001B[0;34m.\u001B[0m\u001B[0min_play_cards\u001B[0m \u001B[0;34m=\u001B[0m \u001B[0mself\u001B[0m\u001B[0;34m.\u001B[0m\u001B[0mall_player_cards\u001B[0m \u001B[0;34m+\u001B[0m \u001B[0mself\u001B[0m\u001B[0;34m.\u001B[0m\u001B[0mtable_cards\u001B[0m\u001B[0;34m\u001B[0m\u001B[0;34m\u001B[0m\u001B[0m\n\u001B[1;32m    475\u001B[0m         \u001B[0mself\u001B[0m\u001B[0;34m.\u001B[0m\u001B[0mremaining_deck\u001B[0m \u001B[0;34m=\u001B[0m \u001B[0;34m[\u001B[0m\u001B[0mcard\u001B[0m \u001B[0;32mfor\u001B[0m \u001B[0mcard\u001B[0m \u001B[0;32min\u001B[0m \u001B[0mself\u001B[0m\u001B[0;34m.\u001B[0m\u001B[0mdeck\u001B[0m \u001B[0;32mif\u001B[0m \u001B[0mcard\u001B[0m \u001B[0;32mnot\u001B[0m \u001B[0;32min\u001B[0m \u001B[0mself\u001B[0m\u001B[0;34m.\u001B[0m\u001B[0min_play_cards\u001B[0m\u001B[0;34m]\u001B[0m\u001B[0;34m\u001B[0m\u001B[0;34m\u001B[0m\u001B[0m\n\u001B[0;32m--> 476\u001B[0;31m         \u001B[0mself\u001B[0m\u001B[0;34m.\u001B[0m\u001B[0mplayers_analysis\u001B[0m \u001B[0;34m=\u001B[0m \u001B[0mself\u001B[0m\u001B[0;34m.\u001B[0m\u001B[0manalyse_cards\u001B[0m\u001B[0;34m(\u001B[0m\u001B[0;34m)\u001B[0m\u001B[0;34m\u001B[0m\u001B[0;34m\u001B[0m\u001B[0m\n\u001B[0m\u001B[1;32m    477\u001B[0m         \u001B[0mself\u001B[0m\u001B[0;34m.\u001B[0m\u001B[0mwinners\u001B[0m \u001B[0;34m=\u001B[0m \u001B[0mself\u001B[0m\u001B[0;34m.\u001B[0m\u001B[0mplayers_analysis\u001B[0m\u001B[0;34m[\u001B[0m\u001B[0;34m\"winners\"\u001B[0m\u001B[0;34m]\u001B[0m\u001B[0;34m\u001B[0m\u001B[0;34m\u001B[0m\u001B[0m\n\u001B[1;32m    478\u001B[0m \u001B[0;34m\u001B[0m\u001B[0m\n",
      "\u001B[0;32m~/PycharmProjects/Poker/src/poker_main.py\u001B[0m in \u001B[0;36manalyse_cards\u001B[0;34m(self)\u001B[0m\n\u001B[1;32m    581\u001B[0m \u001B[0;34m\u001B[0m\u001B[0m\n\u001B[1;32m    582\u001B[0m             \u001B[0;31m# check for straight\u001B[0m\u001B[0;34m\u001B[0m\u001B[0;34m\u001B[0m\u001B[0;34m\u001B[0m\u001B[0m\n\u001B[0;32m--> 583\u001B[0;31m             \u001B[0mstraight_values\u001B[0m\u001B[0;34m,\u001B[0m \u001B[0mstraight_cards\u001B[0m\u001B[0;34m,\u001B[0m \u001B[0mhand_ranking\u001B[0m\u001B[0;34m,\u001B[0m \u001B[0mstraight_ranking\u001B[0m \u001B[0;34m=\u001B[0m \u001B[0mself\u001B[0m\u001B[0;34m.\u001B[0m\u001B[0mstraight_check\u001B[0m\u001B[0;34m(\u001B[0m\u001B[0mall_cards\u001B[0m\u001B[0;34m)\u001B[0m\u001B[0;34m\u001B[0m\u001B[0;34m\u001B[0m\u001B[0m\n\u001B[0m\u001B[1;32m    584\u001B[0m             \u001B[0;32mif\u001B[0m \u001B[0mstraight_cards\u001B[0m\u001B[0;34m:\u001B[0m\u001B[0;34m\u001B[0m\u001B[0;34m\u001B[0m\u001B[0m\n\u001B[1;32m    585\u001B[0m                 \u001B[0mplayer_card_rankings\u001B[0m\u001B[0;34m.\u001B[0m\u001B[0mappend\u001B[0m\u001B[0;34m(\u001B[0m\u001B[0;34m(\u001B[0m\u001B[0;36m4\u001B[0m\u001B[0;34m,\u001B[0m \u001B[0mstraight_cards\u001B[0m\u001B[0;34m,\u001B[0m \u001B[0mstraight_ranking\u001B[0m\u001B[0;34m,\u001B[0m \u001B[0mstraight_values\u001B[0m\u001B[0;34m)\u001B[0m\u001B[0;34m)\u001B[0m\u001B[0;34m\u001B[0m\u001B[0;34m\u001B[0m\u001B[0m\n",
      "\u001B[0;32m~/PycharmProjects/Poker/src/poker_main.py\u001B[0m in \u001B[0;36mstraight_check\u001B[0;34m(self, cards)\u001B[0m\n\u001B[1;32m    494\u001B[0m                            \u001B[0;32mif\u001B[0m \u001B[0msorted\u001B[0m\u001B[0;34m(\u001B[0m\u001B[0mcombo\u001B[0m\u001B[0;34m)\u001B[0m \u001B[0;34m==\u001B[0m \u001B[0;34m[\u001B[0m\u001B[0;36m2\u001B[0m\u001B[0;34m,\u001B[0m \u001B[0;36m3\u001B[0m\u001B[0;34m,\u001B[0m \u001B[0;36m4\u001B[0m\u001B[0;34m,\u001B[0m \u001B[0;36m5\u001B[0m\u001B[0;34m,\u001B[0m \u001B[0;36m14\u001B[0m\u001B[0;34m]\u001B[0m \u001B[0;32mor\u001B[0m\u001B[0;34m\u001B[0m\u001B[0;34m\u001B[0m\u001B[0m\n\u001B[1;32m    495\u001B[0m                            max(combo) - min(combo) == 4 and len(set(combo)) == 5]\n\u001B[0;32m--> 496\u001B[0;31m         straight_cards = sorted(self.maxN([x for x in cards if x.value in straight_values[0]], n=5),\n\u001B[0m\u001B[1;32m    497\u001B[0m                                 \u001B[0mkey\u001B[0m\u001B[0;34m=\u001B[0m\u001B[0;32mlambda\u001B[0m \u001B[0mx\u001B[0m\u001B[0;34m:\u001B[0m \u001B[0mx\u001B[0m\u001B[0;34m.\u001B[0m\u001B[0mvalue\u001B[0m\u001B[0;34m,\u001B[0m\u001B[0;34m\u001B[0m\u001B[0;34m\u001B[0m\u001B[0m\n\u001B[1;32m    498\u001B[0m                                 reverse=False)\n",
      "\u001B[0;32m~/PycharmProjects/Poker/src/poker_main.py\u001B[0m in \u001B[0;36m<listcomp>\u001B[0;34m(.0)\u001B[0m\n\u001B[1;32m    494\u001B[0m                            \u001B[0;32mif\u001B[0m \u001B[0msorted\u001B[0m\u001B[0;34m(\u001B[0m\u001B[0mcombo\u001B[0m\u001B[0;34m)\u001B[0m \u001B[0;34m==\u001B[0m \u001B[0;34m[\u001B[0m\u001B[0;36m2\u001B[0m\u001B[0;34m,\u001B[0m \u001B[0;36m3\u001B[0m\u001B[0;34m,\u001B[0m \u001B[0;36m4\u001B[0m\u001B[0;34m,\u001B[0m \u001B[0;36m5\u001B[0m\u001B[0;34m,\u001B[0m \u001B[0;36m14\u001B[0m\u001B[0;34m]\u001B[0m \u001B[0;32mor\u001B[0m\u001B[0;34m\u001B[0m\u001B[0;34m\u001B[0m\u001B[0m\n\u001B[1;32m    495\u001B[0m                            max(combo) - min(combo) == 4 and len(set(combo)) == 5]\n\u001B[0;32m--> 496\u001B[0;31m         straight_cards = sorted(self.maxN([x for x in cards if x.value in straight_values[0]], n=5),\n\u001B[0m\u001B[1;32m    497\u001B[0m                                 \u001B[0mkey\u001B[0m\u001B[0;34m=\u001B[0m\u001B[0;32mlambda\u001B[0m \u001B[0mx\u001B[0m\u001B[0;34m:\u001B[0m \u001B[0mx\u001B[0m\u001B[0;34m.\u001B[0m\u001B[0mvalue\u001B[0m\u001B[0;34m,\u001B[0m\u001B[0;34m\u001B[0m\u001B[0;34m\u001B[0m\u001B[0m\n\u001B[1;32m    498\u001B[0m                                 reverse=False)\n",
      "\u001B[0;31mIndexError\u001B[0m: list index out of range"
     ]
    }
   ],
   "source": [
    "# four of a kind test with low fours\n",
    "players = [\n",
    "\n",
    "        Player(\"a\", chips=10, current_position=\"BTN\", cards=[Card(\"9\", \"clubs\"), Card(\"8\", \"clubs\")]),\n",
    "        Player(\"b\", chips=1000, current_position=\"SB\", cards=[Card(\"A\", \"hearts\"), Card(\"A\", \"hearts\")]),\n",
    "        Player(\"c\", chips=1000, current_position=\"BB\", cards=[Card(\"2\", \"hearts\"), Card(\"2\", \"spades\"), Card(\"3\", \"hearts\"), Card(\"3\", \"clubs\")]),\n",
    "        Player(\"d\", chips=1000, current_position=\"BB\", cards=[Card(\"2\", \"hearts\"), Card(\"2\", \"spades\"), Card(\"2\", \"diamonds\")]),\n",
    "        Player(\"e\", chips=1000, current_position=\"BB\", cards=[Card(\"A\", \"hearts\"), Card(\"K\", \"spades\"), Card(\"Q\", \"diamonds\"), Card(\"J\", \"spades\"), Card(\"T\", \"diamonds\")]),\n",
    "        Player(\"f\", chips=1000, current_position=\"BB\", cards=[Card(\"A\", \"hearts\"), Card(\"2\", \"spades\"), Card(\"3\", \"diamonds\"), Card(\"4\", \"spades\"), Card(\"5\", \"diamonds\")]),\n",
    "        Player(\"g\", chips=1000, current_position=\"BB\", cards=[Card(\"A\", \"hearts\"), Card(\"A\", \"hearts\"), Card(\"3\", \"hearts\"), Card(\"4\", \"hearts\"), Card(\"5\", \"hearts\")]),\n",
    "           ]\n",
    "table_cards = []\n",
    "analysis = BoardAnalysis(players, table_cards)\n",
    "print(analysis.winners)\n"
   ],
   "metadata": {
    "collapsed": false,
    "pycharm": {
     "name": "#%%\n"
    }
   }
  }
 ],
 "metadata": {
  "kernelspec": {
   "display_name": "Python 3",
   "language": "python",
   "name": "python3"
  },
  "language_info": {
   "codemirror_mode": {
    "name": "ipython",
    "version": 2
   },
   "file_extension": ".py",
   "mimetype": "text/x-python",
   "name": "python",
   "nbconvert_exporter": "python",
   "pygments_lexer": "ipython2",
   "version": "2.7.6"
  }
 },
 "nbformat": 4,
 "nbformat_minor": 0
}