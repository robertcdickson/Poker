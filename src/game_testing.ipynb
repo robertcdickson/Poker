{
 "cells": [
  {
   "cell_type": "code",
   "execution_count": 1,
   "metadata": {
    "collapsed": true,
    "pycharm": {
     "name": "#%%\n"
    }
   },
   "outputs": [
    {
     "name": "stdout",
     "output_type": "stream",
     "text": [
      "========================================\n",
      "a: 8♠2♥\n",
      "b: 6♦K♣\n",
      "c: 2♠9♦\n",
      "========================================\n",
      "b posts small blind\n",
      "c posts big blind\n",
      "========================================\n",
      "                pre-flop                \n",
      "========================================\n",
      "a fold\n",
      "b raise to 25\n",
      "c raise to 50\n",
      "b call\n",
      "----------------------------------------\n",
      "Pot size is 100.0 BB\n",
      "========================================\n",
      "Flop cards: 2♣A♦K♠\n",
      "========================================\n",
      "               post-flop                \n",
      "========================================\n",
      "b check\n",
      "c raise to 100\n",
      "b call\n",
      "----------------------------------------\n",
      "Pot size is 300.0 BB\n",
      "========================================\n",
      "Turn card: 7♠\n",
      "Table Cards: 2♣A♦K♠7♠\n",
      "========================================\n",
      "                  turn                  \n",
      "========================================\n",
      "b check\n",
      "c check\n",
      "----------------------------------------\n",
      "Pot size is 300.0 BB\n",
      "========================================\n",
      "River card: T♥\n",
      "Table Cards: 2♣A♦K♠7♠T♥\n",
      "========================================\n",
      "                 river                  \n",
      "========================================\n",
      "b check\n",
      "c check\n",
      "----------------------------------------\n",
      "Pot size is 300.0 BB\n",
      "========================================\n"
     ]
    }
   ],
   "source": [
    "from poker_main import *\n",
    "\n",
    "players = [\n",
    "\n",
    "        Player(\"a\", chips=10, current_position=\"BTN\", pre_flop=[\"fold\"]),\n",
    "        Player(\"b\", chips=1000, current_position=\"SB\", pre_flop=[\"raise to 25\", \"call\"], post_flop=[\"check\", \"call\"], turn=[\"check\"], river=[\"check\"]),\n",
    "        Player(\"c\", chips=1000, current_position=\"BB\", pre_flop=[\"raise to 50\", \"fold\"], post_flop=[\"raise to 100\"], turn=[\"check\"], river=[\"check\"]),\n",
    "\n",
    "           ]\n",
    "\n",
    "game = Poker(players)\n",
    "\n",
    "game.play_game()\n"
   ]
  },
  {
   "cell_type": "code",
   "execution_count": 3,
   "outputs": [
    {
     "name": "stdout",
     "output_type": "stream",
     "text": [
      "{'a': (7, [14]), 'b': (7, [14]), 'c': (7, [12])}\n",
      "max ranked players dict_values([(7, [14]), (7, [14]), (7, [12])])\n"
     ]
    }
   ],
   "source": [
    "# four of a kind test with low fours\n",
    "players = [\n",
    "\n",
    "        Player(\"a\", chips=10, current_position=\"BTN\", cards=[Card(\"A\", \"hearts\"), Card(\"K\", \"hearts\")]),\n",
    "        Player(\"b\", chips=1000, current_position=\"SB\", cards=[Card(\"A\", \"hearts\"), Card(\"K\", \"hearts\")]),\n",
    "        Player(\"c\", chips=1000, current_position=\"BB\", cards=[Card(\"Q\", \"hearts\"), Card(\"J\", \"hearts\")]),\n",
    "\n",
    "           ]\n",
    "table_cards = [Card(\"2\", \"clubs\"), Card(\"2\", \"spades\"), Card(\"2\", \"diamonds\"), Card(\"2\", \"hearts\")]\n",
    "analysis = BoardAnalysis(players, table_cards)\n"
   ],
   "metadata": {
    "collapsed": false,
    "pycharm": {
     "name": "#%%\n"
    }
   }
  }
 ],
 "metadata": {
  "kernelspec": {
   "display_name": "Python 3",
   "language": "python",
   "name": "python3"
  },
  "language_info": {
   "codemirror_mode": {
    "name": "ipython",
    "version": 2
   },
   "file_extension": ".py",
   "mimetype": "text/x-python",
   "name": "python",
   "nbconvert_exporter": "python",
   "pygments_lexer": "ipython2",
   "version": "2.7.6"
  }
 },
 "nbformat": 4,
 "nbformat_minor": 0
}