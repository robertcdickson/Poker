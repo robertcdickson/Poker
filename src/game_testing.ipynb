{
 "cells": [
  {
   "cell_type": "code",
   "execution_count": 1,
   "metadata": {
    "collapsed": true,
    "pycharm": {
     "name": "#%%\n"
    }
   },
   "outputs": [
    {
     "data": {
      "text/plain": "'players = [\\n\\n        Player(\"a\", chips=10, current_position=\"BTN\", pre_flop=[\"fold\"]),\\n        Player(\"b\", chips=1000, current_position=\"SB\", pre_flop=[\"raise to 25\", \"call\"], post_flop=[\"check\", \"call\"], turn=[\"check\"], river=[\"check\"]),\\n        Player(\"c\", chips=1000, current_position=\"BB\", pre_flop=[\"raise to 50\", \"fold\"], post_flop=[\"raise to 100\"], turn=[\"check\"], river=[\"check\"]),\\n\\n           ]\\n\\ngame = Poker(players)\\n\\ngame.play_game()\\n'"
     },
     "execution_count": 1,
     "metadata": {},
     "output_type": "execute_result"
    }
   ],
   "source": [
    "from poker_main import *\n",
    "\n",
    "\"\"\"players = [\n",
    "\n",
    "        Player(\"a\", chips=10, current_position=\"BTN\", pre_flop=[\"fold\"]),\n",
    "        Player(\"b\", chips=1000, current_position=\"SB\", pre_flop=[\"raise to 25\", \"call\"], post_flop=[\"check\", \"call\"], turn=[\"check\"], river=[\"check\"]),\n",
    "        Player(\"c\", chips=1000, current_position=\"BB\", pre_flop=[\"raise to 50\", \"fold\"], post_flop=[\"raise to 100\"], turn=[\"check\"], river=[\"check\"]),\n",
    "\n",
    "           ]\n",
    "\n",
    "game = Poker(players)\n",
    "\n",
    "game.play_game()\n",
    "\"\"\""
   ]
  },
  {
   "cell_type": "code",
   "execution_count": 2,
   "outputs": [
    {
     "name": "stdout",
     "output_type": "stream",
     "text": [
      "(hand class, best combo, class ranking, kickers)\n",
      "high_card\n",
      "pair\n",
      "two_pair\n",
      "two_pair\n",
      "three_of_a_kind\n",
      "straight\n",
      "straight\n",
      "flush\n",
      "full_house\n",
      "four_of_a_kind\n",
      "straight_flush\n",
      "straight_flush\n",
      "royal_flush\n",
      "[Royal Flush]\n"
     ]
    }
   ],
   "source": [
    "# four of a kind test with low fours\n",
    "print(\"(hand class, best combo, class ranking, kickers)\")\n",
    "players = [\n",
    "\n",
    "        Player(\"High Card\", chips=10, current_position=\"BTN\", cards=[Card(\"9c\"), Card(\"8c\"), Card(\"6c\"), Card(\"4h\"), Card(\"2c\")]),\n",
    "        Player(\"One Pair\", chips=1000, current_position=\"SB\", cards=[Card(\"Ah\"), Card(\"Ah\"),  Card(\"6c\"), Card(\"4h\"), Card(\"2c\")]),\n",
    "        Player(\"Two Pair\", chips=1000, current_position=\"BB\", cards=[Card(\"2h\"), Card(\"2s\"), Card(\"3h\"), Card(\"3c\"), Card(\"Td\")]),\n",
    "        Player(\"Two Pair with 3 Pairs on Board\", chips=1000, current_position=\"BB\", cards=[Card(\"2h\"), Card(\"2s\"), Card(\"3h\"), Card(\"3c\"), Card(\"Ah\"), Card(\"Ac\"), Card(\"Td\")]),\n",
    "        Player(\"Three of a Kind\", chips=1000, current_position=\"BB\", cards=[Card(\"2h\"), Card(\"2s\"), Card(\"2d\"), Card(\"6c\"), Card(\"4h\"),]),\n",
    "        Player(\"Straight (Ace High)\", chips=1000, current_position=\"BB\", cards=[Card(\"Ah\"), Card(\"Ks\"), Card(\"Qd\"), Card(\"Js\"), Card(\"Td\")]),\n",
    "        Player(\"Straight (Ace Low)\", chips=1000, current_position=\"BB\", cards=[Card(\"Ah\"), Card(\"2s\"), Card(\"3d\"), Card(\"4s\"), Card(\"5d\")]),\n",
    "        Player(\"Flush\", chips=1000, current_position=\"BB\", cards=[Card(\"Ah\"), Card(\"Kh\"), Card(\"3h\"), Card(\"4h\"), Card(\"5h\")]),\n",
    "        Player(\"Full House\", chips=1000, current_position=\"BB\", cards=[Card(\"Ah\"), Card(\"Ac\"), Card(\"3h\"), Card(\"3s\"), Card(\"3d\")]),\n",
    "        Player(\"Four of a Kind\", chips=1000, current_position=\"BB\", cards=[Card(\"2h\"), Card(\"2s\"), Card(\"2d\"), Card(\"2c\"), Card(\"4h\"),]),\n",
    "        Player(\"Straight Flush\", chips=1000, current_position=\"BB\", cards=[Card(\"2h\"), Card(\"3h\"), Card(\"4h\"), Card(\"5h\"), Card(\"6h\"),]),\n",
    "        Player(\"Straight Flush (Ace Low)\", chips=1000, current_position=\"BB\", cards=[Card(\"2h\"), Card(\"3h\"), Card(\"4h\"), Card(\"5h\"), Card(\"Ah\"),]),\n",
    "        Player(\"Royal Flush\", chips=1000, current_position=\"BB\", cards=[Card(\"Th\"), Card(\"Jh\"), Card(\"Qh\"), Card(\"Kh\"), Card(\"Ah\")]),\n",
    "           ]\n",
    "table_cards = []\n",
    "analysis = BoardAnalysis(players, table_cards)\n",
    "print(analysis.winners)"
   ],
   "metadata": {
    "collapsed": false,
    "pycharm": {
     "name": "#%%\n"
    }
   }
  },
  {
   "cell_type": "code",
   "execution_count": 3,
   "outputs": [
    {
     "name": "stdout",
     "output_type": "stream",
     "text": [
      "========================================\n",
      "a: A♥K♥\n",
      "b: K♠K♦\n",
      "c: 5♥6♦\n",
      "========================================\n",
      "b posts small blind\n",
      "c posts big blind\n",
      "========================================\n",
      "                pre-flop                \n",
      "========================================\n",
      "a raise to 10\n",
      "a is all in!\n",
      "b raise to 50\n",
      "c call\n",
      "----------------------------------------\n",
      "Pot size is 110.0 BB\n",
      "========================================\n",
      "Flop cards: T♣J♣Q♣\n",
      "========================================\n",
      "               post-flop                \n",
      "========================================\n",
      "b raise to 50\n",
      "b is all in!\n",
      "c call\n",
      "----------------------------------------\n",
      "Pot size is 210.0 BB\n",
      "========================================\n",
      "No more betting as a player(s) are all in\n",
      "========================================\n",
      "Turn card: K♣\n",
      "Table Cards: T♣J♣Q♣K♣\n",
      "========================================\n",
      "                  turn                  \n",
      "========================================\n",
      "River card: 6♣\n",
      "Table Cards: T♣J♣Q♣K♣6♣\n",
      "========================================\n",
      "                 river                  \n",
      "========================================\n",
      "flush\n",
      "Winner is c and wins 210.0 with (5, 13, [13, 12, 11, 10, 6])\n"
     ]
    }
   ],
   "source": [
    "players = [\n",
    "\n",
    "        Player(\"a\", chips=10, current_position=\"BTN\", pre_flop=[\"raise to 10\"], cards=[Card(\"Ah\"), Card(\"Kh\")]),\n",
    "        Player(\"b\", chips=100, current_position=\"SB\", pre_flop=[\"raise to 50\"], cards=[Card(\"Ks\"), Card(\"Kd\")], post_flop=[\"raise to 50\"], turn=[], river=[]),\n",
    "        Player(\"c\", chips=1000, current_position=\"BB\", pre_flop=[\"call\"], post_flop=[\"call\"], turn=[], river=[]),\n",
    "\n",
    "           ]\n",
    "\n",
    "game = Poker(players, table_cards=[Card(\"Tc\"), Card(\"Jc\"), Card(\"Qc\"), Card(\"Kc\")])\n",
    "\n",
    "game.play_game()"
   ],
   "metadata": {
    "collapsed": false,
    "pycharm": {
     "name": "#%%\n"
    }
   }
  }
 ],
 "metadata": {
  "kernelspec": {
   "name": "pycharm-7c239fc0",
   "language": "python",
   "display_name": "PyCharm (Poker)"
  },
  "language_info": {
   "codemirror_mode": {
    "name": "ipython",
    "version": 2
   },
   "file_extension": ".py",
   "mimetype": "text/x-python",
   "name": "python",
   "nbconvert_exporter": "python",
   "pygments_lexer": "ipython2",
   "version": "2.7.6"
  }
 },
 "nbformat": 4,
 "nbformat_minor": 0
}