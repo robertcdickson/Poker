{
 "cells": [
  {
   "cell_type": "code",
   "execution_count": 1,
   "metadata": {
    "collapsed": true,
    "pycharm": {
     "name": "#%%\n"
    }
   },
   "outputs": [
    {
     "data": {
      "text/plain": "'players = [\\n\\n        Player(\"a\", chips=10, current_position=\"BTN\", pre_flop=[\"fold\"]),\\n        Player(\"b\", chips=1000, current_position=\"SB\", pre_flop=[\"raise to 25\", \"call\"], post_flop=[\"check\", \"call\"], turn=[\"check\"], river=[\"check\"]),\\n        Player(\"c\", chips=1000, current_position=\"BB\", pre_flop=[\"raise to 50\", \"fold\"], post_flop=[\"raise to 100\"], turn=[\"check\"], river=[\"check\"]),\\n\\n           ]\\n\\ngame = Poker(players)\\n\\ngame.play_game()\\n'"
     },
     "execution_count": 1,
     "metadata": {},
     "output_type": "execute_result"
    }
   ],
   "source": [
    "from poker_main import *\n",
    "\n",
    "\"\"\"players = [\n",
    "\n",
    "        Player(\"a\", chips=10, current_position=\"BTN\", pre_flop=[\"fold\"]),\n",
    "        Player(\"b\", chips=1000, current_position=\"SB\", pre_flop=[\"raise to 25\", \"call\"], post_flop=[\"check\", \"call\"], turn=[\"check\"], river=[\"check\"]),\n",
    "        Player(\"c\", chips=1000, current_position=\"BB\", pre_flop=[\"raise to 50\", \"fold\"], post_flop=[\"raise to 100\"], turn=[\"check\"], river=[\"check\"]),\n",
    "\n",
    "           ]\n",
    "\n",
    "game = Poker(players)\n",
    "\n",
    "game.play_game()\n",
    "\"\"\""
   ]
  },
  {
   "cell_type": "code",
   "execution_count": 4,
   "outputs": [
    {
     "name": "stdout",
     "output_type": "stream",
     "text": [
      "(hand class, best combo, class ranking, kickers)\n",
      "(0, [9♣, 8♣, 6♣, 4♥, 2♣], 9, [9, 8, 6, 4, 2])\n",
      "(1, [A♥, A♥, 6♣, 4♥, 2♣], 14, [6, 4, 2])\n",
      "(2, [2♥, 2♠, 3♥, 3♣, T♦], 3, [10])\n",
      "(3, [2♥, 2♠, 2♦, 6♣, 4♥], 2, [6, 4])\n",
      "(4, [T♦, J♠, Q♦, K♠, A♥], 14, [10, 11, 12, 13, 14])\n",
      "(4, [2♠, 3♦, 4♠, 5♦, A♥], 5, [5, 4, 3, 2, 14])\n",
      "(5, [A♥, K♥, 5♥, 4♥, 3♥], 14, [14, 13, 5, 4, 3])\n",
      "(6, [A♥, A♣, 3♥, 3♠, 3♦], 3, [3, 14])\n",
      "(7, [2♥, 2♠, 2♦, 2♣, 4♥], 2, [4])\n",
      "(8, [6♥, 5♥, 4♥, 3♥, 2♥], 6, [6, 5, 4, 3, 2])\n",
      "(8, [A♥, 5♥, 4♥, 3♥, 2♥], 5, [14, 5, 4, 3, 2])\n",
      "(9, [A♥, K♥, Q♥, J♥, T♥], 14, [14, 13, 12, 11, 10])\n"
     ]
    }
   ],
   "source": [
    "# four of a kind test with low fours\n",
    "print(\"(hand class, best combo, class ranking, kickers)\")\n",
    "players = [\n",
    "\n",
    "        Player(\"High Card\", chips=10, current_position=\"BTN\", cards=[Card(\"9\", \"clubs\"), Card(\"8\", \"clubs\"), Card(\"6\", \"clubs\"), Card(\"4\", \"hearts\"), Card(\"2\", \"clubs\")]),\n",
    "        Player(\"One Pair\", chips=1000, current_position=\"SB\", cards=[Card(\"A\", \"hearts\"), Card(\"A\", \"hearts\"),  Card(\"6\", \"clubs\"), Card(\"4\", \"hearts\"), Card(\"2\", \"clubs\")]),\n",
    "        Player(\"Two Pair\", chips=1000, current_position=\"BB\", cards=[Card(\"2\", \"hearts\"), Card(\"2\", \"spades\"), Card(\"3\", \"hearts\"), Card(\"3\", \"clubs\"), Card(\"T\", \"diamonds\")]),\n",
    "        Player(\"Three of a Kind\", chips=1000, current_position=\"BB\", cards=[Card(\"2\", \"hearts\"), Card(\"2\", \"spades\"), Card(\"2\", \"diamonds\"), Card(\"6\", \"clubs\"), Card(\"4\", \"hearts\"),]),\n",
    "        Player(\"Straight (Ace High)\", chips=1000, current_position=\"BB\", cards=[Card(\"A\", \"hearts\"), Card(\"K\", \"spades\"), Card(\"Q\", \"diamonds\"), Card(\"J\", \"spades\"), Card(\"T\", \"diamonds\")]),\n",
    "        Player(\"Straight (Ace Low)\", chips=1000, current_position=\"BB\", cards=[Card(\"A\", \"hearts\"), Card(\"2\", \"spades\"), Card(\"3\", \"diamonds\"), Card(\"4\", \"spades\"), Card(\"5\", \"diamonds\")]),\n",
    "        Player(\"Flush\", chips=1000, current_position=\"BB\", cards=[Card(\"A\", \"hearts\"), Card(\"K\", \"hearts\"), Card(\"3\", \"hearts\"), Card(\"4\", \"hearts\"), Card(\"5\", \"hearts\")]),\n",
    "        Player(\"Full House\", chips=1000, current_position=\"BB\", cards=[Card(\"A\", \"hearts\"), Card(\"A\", \"clubs\"), Card(\"3\", \"hearts\"), Card(\"3\", \"spades\"), Card(\"3\", \"diamonds\")]),\n",
    "        Player(\"Four of a Kind\", chips=1000, current_position=\"BB\", cards=[Card(\"2\", \"hearts\"), Card(\"2\", \"spades\"), Card(\"2\", \"diamonds\"), Card(\"2\", \"clubs\"), Card(\"4\", \"hearts\"),]),\n",
    "        Player(\"Straight Flush\", chips=1000, current_position=\"BB\", cards=[Card(\"2\", \"hearts\"), Card(\"3\", \"hearts\"), Card(\"4\", \"hearts\"), Card(\"5\", \"hearts\"), Card(\"6\", \"hearts\"),]),\n",
    "        Player(\"Straight Flush (Ace Low)\", chips=1000, current_position=\"BB\", cards=[Card(\"2\", \"hearts\"), Card(\"3\", \"hearts\"), Card(\"4\", \"hearts\"), Card(\"5\", \"hearts\"), Card(\"A\", \"hearts\"),]),\n",
    "        Player(\"Royal Flush\", chips=1000, current_position=\"BB\", cards=[Card(\"T\", \"hearts\"), Card(\"J\", \"hearts\"), Card(\"Q\", \"hearts\"), Card(\"K\", \"hearts\"), Card(\"A\", \"hearts\"),]),\n",
    "           ]\n",
    "table_cards = []\n",
    "analysis = BoardAnalysis(players, table_cards)\n",
    "\n"
   ],
   "metadata": {
    "collapsed": false,
    "pycharm": {
     "name": "#%%\n"
    }
   }
  }
 ],
 "metadata": {
  "kernelspec": {
   "display_name": "Python 3",
   "language": "python",
   "name": "python3"
  },
  "language_info": {
   "codemirror_mode": {
    "name": "ipython",
    "version": 2
   },
   "file_extension": ".py",
   "mimetype": "text/x-python",
   "name": "python",
   "nbconvert_exporter": "python",
   "pygments_lexer": "ipython2",
   "version": "2.7.6"
  }
 },
 "nbformat": 4,
 "nbformat_minor": 0
}