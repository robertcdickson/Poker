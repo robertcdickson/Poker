{
 "cells": [
  {
   "cell_type": "code",
   "execution_count": 7,
   "metadata": {
    "collapsed": true,
    "pycharm": {
     "name": "#%%\n"
    }
   },
   "outputs": [
    {
     "data": {
      "text/plain": "'players = [\\n\\n        Player(\"a\", chips=10, current_position=\"BTN\", pre_flop=[\"fold\"]),\\n        Player(\"b\", chips=1000, current_position=\"SB\", pre_flop=[\"raise to 25\", \"call\"], post_flop=[\"check\", \"call\"], turn=[\"check\"], river=[\"check\"]),\\n        Player(\"c\", chips=1000, current_position=\"BB\", pre_flop=[\"raise to 50\", \"fold\"], post_flop=[\"raise to 100\"], turn=[\"check\"], river=[\"check\"]),\\n\\n           ]\\n\\ngame = Poker(players)\\n\\ngame.play_game()\\n'"
     },
     "execution_count": 7,
     "metadata": {},
     "output_type": "execute_result"
    }
   ],
   "source": [
    "from poker_main import *\n",
    "\n",
    "\"\"\"players = [\n",
    "\n",
    "        Player(\"a\", chips=10, current_position=\"BTN\", pre_flop=[\"fold\"]),\n",
    "        Player(\"b\", chips=1000, current_position=\"SB\", pre_flop=[\"raise to 25\", \"call\"], post_flop=[\"check\", \"call\"], turn=[\"check\"], river=[\"check\"]),\n",
    "        Player(\"c\", chips=1000, current_position=\"BB\", pre_flop=[\"raise to 50\", \"fold\"], post_flop=[\"raise to 100\"], turn=[\"check\"], river=[\"check\"]),\n",
    "\n",
    "           ]\n",
    "\n",
    "game = Poker(players)\n",
    "\n",
    "game.play_game()\n",
    "\"\"\""
   ]
  },
  {
   "cell_type": "code",
   "execution_count": 8,
   "outputs": [
    {
     "name": "stdout",
     "output_type": "stream",
     "text": [
      "[K♣, Q♣, J♣, T♣, 9♣]\n",
      "{'a': (8, [13, 12, 11, 10, 9]), 'b': (7, [2]), 'c': (3, [13, 12])}\n",
      "max ranked players dict_values([(8, [13, 12, 11, 10, 9])])\n",
      "['a']\n"
     ]
    }
   ],
   "source": [
    "# four of a kind test with low fours\n",
    "players = [\n",
    "\n",
    "        Player(\"a\", chips=10, current_position=\"BTN\", cards=[Card(\"9\", \"clubs\"),\n",
    "                      Card(\"K\", \"clubs\"),\n",
    "                      Card(\"Q\", \"clubs\"),\n",
    "                      Card(\"J\", \"clubs\"),\n",
    "                      Card(\"T\", \"clubs\")]),\n",
    "        Player(\"b\", chips=1000, current_position=\"SB\", cards=[Card(\"A\", \"hearts\"), Card(\"A\", \"hearts\"), Card(\"A\", \"hearts\"), Card(\"A\", \"hearts\")]),\n",
    "        Player(\"c\", chips=1000, current_position=\"BB\", cards=[Card(\"K\", \"hearts\"), Card(\"Q\", \"hearts\")]),\n",
    "           ]\n",
    "table_cards = [Card(\"2\", \"clubs\"), Card(\"2\", \"spades\"), Card(\"2\", \"diamonds\")]\n",
    "analysis = BoardAnalysis(players, table_cards)\n",
    "print(analysis.winners)\n"
   ],
   "metadata": {
    "collapsed": false,
    "pycharm": {
     "name": "#%%\n"
    }
   }
  }
 ],
 "metadata": {
  "kernelspec": {
   "display_name": "Python 3",
   "language": "python",
   "name": "python3"
  },
  "language_info": {
   "codemirror_mode": {
    "name": "ipython",
    "version": 2
   },
   "file_extension": ".py",
   "mimetype": "text/x-python",
   "name": "python",
   "nbconvert_exporter": "python",
   "pygments_lexer": "ipython2",
   "version": "2.7.6"
  }
 },
 "nbformat": 4,
 "nbformat_minor": 0
}