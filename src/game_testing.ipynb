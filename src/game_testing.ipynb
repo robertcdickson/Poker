{
 "cells": [
  {
   "cell_type": "code",
   "execution_count": 1,
   "metadata": {
    "collapsed": true,
    "pycharm": {
     "name": "#%%\n"
    }
   },
   "outputs": [
    {
     "data": {
      "text/plain": "'players = [\\n\\n        Player(\"a\", chips=10, current_position=\"BTN\", pre_flop=[\"fold\"]),\\n        Player(\"b\", chips=1000, current_position=\"SB\", pre_flop=[\"raise to 25\", \"call\"], post_flop=[\"check\", \"call\"], turn=[\"check\"], river=[\"check\"]),\\n        Player(\"c\", chips=1000, current_position=\"BB\", pre_flop=[\"raise to 50\", \"fold\"], post_flop=[\"raise to 100\"], turn=[\"check\"], river=[\"check\"]),\\n\\n           ]\\n\\ngame = Poker(players)\\n\\ngame.play_game()\\n'"
     },
     "execution_count": 1,
     "metadata": {},
     "output_type": "execute_result"
    }
   ],
   "source": [
    "from poker_main import *\n",
    "\n",
    "\"\"\"players = [\n",
    "\n",
    "        Player(\"a\", chips=10, current_position=\"BTN\", pre_flop=[\"fold\"]),\n",
    "        Player(\"b\", chips=1000, current_position=\"SB\", pre_flop=[\"raise to 25\", \"call\"], post_flop=[\"check\", \"call\"], turn=[\"check\"], river=[\"check\"]),\n",
    "        Player(\"c\", chips=1000, current_position=\"BB\", pre_flop=[\"raise to 50\", \"fold\"], post_flop=[\"raise to 100\"], turn=[\"check\"], river=[\"check\"]),\n",
    "\n",
    "           ]\n",
    "\n",
    "game = Poker(players)\n",
    "\n",
    "game.play_game()\n",
    "\"\"\""
   ]
  },
  {
   "cell_type": "code",
   "execution_count": 2,
   "outputs": [
    {
     "name": "stdout",
     "output_type": "stream",
     "text": [
      "(hand class, best combo, class ranking, kickers)\n"
     ]
    }
   ],
   "source": [
    "# four of a kind test with low fours\n",
    "print(\"(hand class, best combo, class ranking, kickers)\")\n",
    "players = [\n",
    "\n",
    "        Player(\"High Card\", chips=10, current_position=\"BTN\", cards=[Card(\"9c\"), Card(\"8c\"), Card(\"6c\"), Card(\"4h\"), Card(\"2c\")]),\n",
    "        Player(\"One Pair\", chips=1000, current_position=\"SB\", cards=[Card(\"Ah\"), Card(\"Ah\"),  Card(\"6c\"), Card(\"4h\"), Card(\"2c\")]),\n",
    "        Player(\"Two Pair\", chips=1000, current_position=\"BB\", cards=[Card(\"2h\"), Card(\"2s\"), Card(\"5h\"), Card(\"5c\"), Card(\"Td\")]),\n",
    "        Player(\"Two Pair Under/Over\", chips=1000, current_position=\"BB\", cards=[Card(\"Kh\"), Card(\"Ks\"), Card(\"3h\"), Card(\"3c\"), Card(\"Td\")]),\n",
    "        Player(\"Two Pair with 3 Pairs on Board\", chips=1000, current_position=\"BB\", cards=[Card(\"2h\"), Card(\"2s\"), Card(\"3h\"), Card(\"3c\"), Card(\"Ah\"), Card(\"Ac\"), Card(\"Td\")]),\n",
    "        Player(\"Three of a Kind\", chips=1000, current_position=\"BB\", cards=[Card(\"2h\"), Card(\"2s\"), Card(\"2d\"), Card(\"6c\"), Card(\"4h\"),]),\n",
    "        Player(\"Straight (Ace High)\", chips=1000, current_position=\"BB\", cards=[Card(\"Ah\"), Card(\"Ks\"), Card(\"Qd\"), Card(\"Js\"), Card(\"Td\")]),\n",
    "        Player(\"Straight (Ace Low)\", chips=1000, current_position=\"BB\", cards=[Card(\"Ah\"), Card(\"2s\"), Card(\"3d\"), Card(\"4s\"), Card(\"5d\")]),\n",
    "        Player(\"Flush\", chips=1000, current_position=\"BB\", cards=[Card(\"Ah\"), Card(\"Kh\"), Card(\"3h\"), Card(\"4h\"), Card(\"5h\")]),\n",
    "        Player(\"Full House\", chips=1000, current_position=\"BB\", cards=[Card(\"Ah\"), Card(\"Ac\"), Card(\"3h\"), Card(\"3s\"), Card(\"3d\")]),\n",
    "        Player(\"Four of a Kind\", chips=1000, current_position=\"BB\", cards=[Card(\"2h\"), Card(\"2s\"), Card(\"2d\"), Card(\"2c\"), Card(\"4h\"),]),\n",
    "        Player(\"Straight Flush\", chips=1000, current_position=\"BB\", cards=[Card(\"2h\"), Card(\"3h\"), Card(\"4h\"), Card(\"5h\"), Card(\"6h\"),]),\n",
    "        Player(\"Straight Flush (Ace Low)\", chips=1000, current_position=\"BB\", cards=[Card(\"2h\"), Card(\"3h\"), Card(\"4h\"), Card(\"5h\"), Card(\"Ah\"),]),\n",
    "        Player(\"Royal Flush\", chips=1000, current_position=\"BB\", cards=[Card(\"Th\"), Card(\"Jh\"), Card(\"Qh\"), Card(\"Kh\"), Card(\"Ah\")]),\n",
    "        Player(\"Royal Flush 2\", chips=1000, current_position=\"BB\", cards=[Card(\"Td\"), Card(\"Jd\"), Card(\"Qd\"), Card(\"Kd\"), Card(\"Ad\")]),\n",
    "           ]\n",
    "table_cards = []\n",
    "analysis = BoardAnalysis(players, table_cards)\n"
   ],
   "metadata": {
    "collapsed": false,
    "pycharm": {
     "name": "#%%\n"
    }
   }
  },
  {
   "cell_type": "code",
   "execution_count": 3,
   "outputs": [
    {
     "data": {
      "text/plain": "False"
     },
     "execution_count": 3,
     "metadata": {},
     "output_type": "execute_result"
    }
   ],
   "source": [
    "analysis.players[-1].hand_ranking in [analysis.players[-2].hand_ranking]"
   ],
   "metadata": {
    "collapsed": false,
    "pycharm": {
     "name": "#%%\n"
    }
   }
  },
  {
   "cell_type": "code",
   "execution_count": 4,
   "outputs": [
    {
     "name": "stdout",
     "output_type": "stream",
     "text": [
      "========================================\n",
      "                pre-flop                \n",
      "========================================\n",
      "Bobseil posts small blind\n",
      "Cobseil posts big blind\n",
      "========================================\n",
      "Abseil(10.0 BB) call\n",
      "Pot = 2.5\n",
      "========================================\n",
      "Bobseil(999.5 BB) call\n",
      "Pot = 3.0\n",
      "========================================\n",
      "Cobseil(999.0 BB) check\n",
      "Pot = 3.0\n",
      "----------------------------------------\n",
      "After pre-flop betting, pot size is 3.0 BB\n",
      "========================================\n",
      "Flop cards: Q♥Q♣J♥\n",
      "========================================\n",
      "               post-flop                \n",
      "========================================\n",
      "========================================\n",
      "Bobseil(999.0 BB) check\n",
      "Pot = 3.0\n",
      "========================================\n",
      "Cobseil(999.0 BB) check\n",
      "Pot = 3.0\n",
      "========================================\n",
      "Abseil(9.0 BB) raise to 5\n",
      "Pot = 8.0\n",
      "========================================\n",
      "Bobseil(999.0 BB) raise to 50\n",
      "Pot = 58.0\n",
      "========================================\n",
      "Cobseil(999.0 BB) raise to 1000\n",
      "raise size (1000.0) is greater than number of chips (999.0)\n",
      "Cobseil is all in!\n",
      "Pot = 1057.0\n",
      "========================================\n",
      "Abseil(4.0 BB) call\n",
      "Abseil is all in\n",
      "========================================\n",
      "Bobseil(949.0 BB) call\n",
      "Bobseil is all in\n",
      "========================================\n",
      "----------------------------------------\n",
      "After post-flop betting, pot size is 2010.0 BB\n",
      "========================================\n",
      "Turn card: J♦\n",
      "Table Cards: Q♥Q♣J♥(J♦)\n",
      "River card: 2♥\n",
      "Table Cards: Q♥Q♣J♥J♦(2♥)\n",
      "----------------------------------------\n",
      "Abseil(K♥): two pair: Q♥Q♣J♥J♦ with K♥ kicker\n",
      "----------------------------------------\n",
      "Bobseil(K♣): two pair: Q♥Q♣J♥J♦ with K♣ kicker\n",
      "----------------------------------------\n",
      "Cobseil(A♥): two pair: Q♥Q♣J♥J♦ with A♥ kicker\n",
      "----------------------------------------\n",
      "In Rank 1 Cobseil with two pair: Q♥Q♣J♥J♦ with A♥ kicker and collects 2010.0\n",
      "In Rank 2 Abseil with two pair: Q♥Q♣J♥J♦ with K♥ kicker loses\n",
      "In Rank 2 Bobseil with two pair: Q♥Q♣J♥J♦ with K♣ kicker loses\n"
     ]
    }
   ],
   "source": [
    "players = [\n",
    "\n",
    "        Player(\"Abseil\", chips=10, current_position=\"BTN\", pre_flop=[\"call\"], post_flop=[\"raise to 5\", \"call\"], cards=[Card(\"Kh\")]),\n",
    "        Player(\"Bobseil\", chips=1000, current_position=\"SB\", pre_flop=[\"call\"], cards=[Card(\"Kc\")], post_flop=[\"check\", \"raise to 50\", \"call\"], turn=[], river=[]),\n",
    "        Player(\"Cobseil\", chips=1000, current_position=\"BB\", pre_flop=[\"check\"], cards=[Card(\"Ah\")], post_flop=[\"check\", \"raise to 1000\"], turn=[], river=[]),\n",
    "\n",
    "           ]\n",
    "\n",
    "game = Poker(players, table_cards=[Card(\"Qh\"), Card(\"Qc\"), Card(\"Jh\"), Card(\"Jd\"), Card(\"2h\")])\n",
    "\n",
    "game.play_game()"
   ],
   "metadata": {
    "collapsed": false,
    "pycharm": {
     "name": "#%%\n"
    }
   }
  },
  {
   "cell_type": "code",
   "execution_count": 5,
   "outputs": [
    {
     "name": "stdout",
     "output_type": "stream",
     "text": [
      "========================================\n",
      "                pre-flop                \n",
      "========================================\n",
      "Bobseil posts small blind\n",
      "Cobseil posts big blind\n",
      "========================================\n",
      "Abseil(10.0 BB) call\n",
      "Pot = 2.5\n",
      "========================================\n",
      "Bobseil(99.5 BB) call\n",
      "Pot = 3.0\n",
      "========================================\n",
      "Cobseil(999.0 BB) check\n",
      "Pot = 3.0\n",
      "----------------------------------------\n",
      "After pre-flop betting, pot size is 3.0 BB\n",
      "========================================\n",
      "Flop cards: Q♥Q♣J♥\n",
      "========================================\n",
      "               post-flop                \n",
      "========================================\n",
      "========================================\n",
      "Bobseil(99.0 BB) check\n",
      "Pot = 3.0\n",
      "========================================\n",
      "Cobseil(999.0 BB) check\n",
      "Pot = 3.0\n",
      "========================================\n",
      "Abseil(9.0 BB) raise to 5\n",
      "Pot = 8.0\n",
      "========================================\n",
      "Bobseil(99.0 BB) call\n",
      "Pot = 13.0\n",
      "========================================\n",
      "Cobseil(999.0 BB) raise to 500\n",
      "raise size reduced from 500.0 to 99.0 as this is the maximum needed.\n",
      "401.0 returned to Cobseil\n",
      "Pot = 112.0\n",
      "========================================\n",
      "Abseil(4.0 BB) call\n",
      "Abseil is all in\n",
      "========================================\n",
      "Bobseil(94.0 BB) call\n",
      "Bobseil is all in\n",
      "========================================\n",
      "----------------------------------------\n",
      "After post-flop betting, pot size is 210.0 BB\n",
      "========================================\n",
      "No more betting as a player(s) are all in\n",
      "========================================\n",
      "Turn card: J♦\n",
      "Table Cards: Q♥Q♣J♥(J♦)\n",
      "River card: 2♥\n",
      "Table Cards: Q♥Q♣J♥J♦(2♥)\n",
      "----------------------------------------\n",
      "Abseil(K♥): two pair: Q♥Q♣J♥J♦ with K♥ kicker\n",
      "----------------------------------------\n",
      "Bobseil(K♣): two pair: Q♥Q♣J♥J♦ with K♣ kicker\n",
      "----------------------------------------\n",
      "Cobseil(A♥): two pair: Q♥Q♣J♥J♦ with A♥ kicker\n",
      "----------------------------------------\n",
      "In Rank 1 Cobseil with two pair: Q♥Q♣J♥J♦ with A♥ kicker and collects 210.0\n",
      "In Rank 2 Abseil with two pair: Q♥Q♣J♥J♦ with K♥ kicker loses\n",
      "In Rank 2 Bobseil with two pair: Q♥Q♣J♥J♦ with K♣ kicker loses\n"
     ]
    }
   ],
   "source": [
    "players = [\n",
    "\n",
    "        Player(\"Abseil\", chips=10, current_position=\"BTN\", pre_flop=[\"call\"], post_flop=[\"raise to 5\", \"call\"], cards=[Card(\"Kh\")]),\n",
    "        Player(\"Bobseil\", chips=100, current_position=\"SB\", pre_flop=[\"call\"], cards=[Card(\"Kc\")], post_flop=[\"check\", \"call\", \"call\"], turn=[], river=[]),\n",
    "        Player(\"Cobseil\", chips=1000, current_position=\"BB\", pre_flop=[\"check\"], cards=[Card(\"Ah\")], post_flop=[\"check\", \"raise to 500\"], turn=[], river=[]),\n",
    "\n",
    "           ]\n",
    "\n",
    "game = Poker(players, table_cards=[Card(\"Qh\"), Card(\"Qc\"), Card(\"Jh\"), Card(\"Jd\"), Card(\"2h\")])\n",
    "\n",
    "game.play_game()"
   ],
   "metadata": {
    "collapsed": false,
    "pycharm": {
     "name": "#%%\n"
    }
   }
  },
  {
   "cell_type": "code",
   "execution_count": 7,
   "outputs": [
    {
     "name": "stdout",
     "output_type": "stream",
     "text": [
      "========================================\n",
      "                pre-flop                \n",
      "========================================\n",
      "Bobseil posts small blind\n",
      "Cobseil posts big blind\n",
      "========================================\n",
      "Dobseil(1000.0 BB) call\n",
      "Pot = 2.5\n",
      "========================================\n",
      "Eobseil(10000.0 BB) call\n",
      "Pot = 3.5\n",
      "========================================\n",
      "Abseil(10.0 BB) call\n",
      "Pot = 4.5\n",
      "========================================\n",
      "Bobseil(9.5 BB) call\n",
      "Pot = 5.0\n",
      "========================================\n",
      "Cobseil(999.0 BB) check\n",
      "Pot = 5.0\n",
      "----------------------------------------\n",
      "After pre-flop betting, pot size is 5.0 BB\n",
      "========================================\n",
      "Flop cards: Q♥Q♣J♥\n",
      "========================================\n",
      "               post-flop                \n",
      "========================================\n",
      "========================================\n",
      "Bobseil(9.0 BB) check\n",
      "Pot = 5.0\n",
      "========================================\n",
      "Cobseil(999.0 BB) check\n",
      "Pot = 5.0\n",
      "========================================\n",
      "Dobseil(999.0 BB) check\n",
      "Pot = 5.0\n",
      "========================================\n",
      "Eobseil(9999.0 BB) check\n",
      "Pot = 5.0\n",
      "========================================\n",
      "Abseil(9.0 BB) raise to 5\n",
      "Pot = 10.0\n",
      "========================================\n",
      "Bobseil(9.0 BB) raise to 10\n",
      "raise size (10.0) is greater than number of chips (9.0)\n",
      "Bobseil is all in!\n",
      "Pot = 19.0\n",
      "========================================\n",
      "Cobseil(999.0 BB) call\n",
      "Pot = 28.0\n",
      "========================================\n",
      "Dobseil(999.0 BB) raise to 1000\n",
      "raise size (1000.0) is greater than number of chips (999)\n",
      "Dobseil is all in!\n",
      "Pot = 1027.0\n",
      "========================================\n",
      "Eobseil(9999.0 BB) raise to 10000\n",
      "raise size (10000.0) is greater than number of chips (9999)\n",
      "raise size reduced from 9999 to 999.0 as this is the maximum needed.\n",
      "9000.0 returned to Eobseil\n",
      "Pot = 2026.0\n",
      "========================================\n",
      "Abseil(4.0 BB) call\n",
      "Abseil is all in\n",
      "========================================\n",
      "========================================\n",
      "Cobseil(990.0 BB) call\n",
      "Cobseil is all in\n",
      "========================================\n",
      "----------------------------------------\n",
      "After post-flop betting, pot size is 3020.0 BB\n",
      "========================================\n",
      "No more betting as a player(s) are all in\n",
      "========================================\n",
      "Turn card: J♦\n",
      "Table Cards: Q♥Q♣J♥(J♦)\n",
      "River card: 2♥\n",
      "Table Cards: Q♥Q♣J♥J♦(2♥)\n",
      "----------------------------------------\n",
      "Abseil(A♥): two pair: Q♥Q♣J♥J♦ with A♥ kicker\n",
      "----------------------------------------\n",
      "Bobseil(A♥): two pair: Q♥Q♣J♥J♦ with A♥ kicker\n",
      "----------------------------------------\n",
      "Cobseil(A♥): two pair: Q♥Q♣J♥J♦ with A♥ kicker\n",
      "----------------------------------------\n",
      "Dobseil(A♥): two pair: Q♥Q♣J♥J♦ with A♥ kicker\n",
      "----------------------------------------\n",
      "Eobseil(A♥): two pair: Q♥Q♣J♥J♦ with A♥ kicker\n",
      "----------------------------------------\n",
      "In Rank 1 Abseil with two pair: Q♥Q♣J♥J♦ with A♥ kicker and collects 10.0\n",
      "In Rank 1 Bobseil with two pair: Q♥Q♣J♥J♦ with A♥ kicker and collects 10.0\n",
      "In Rank 1 Cobseil with two pair: Q♥Q♣J♥J♦ with A♥ kicker and collects 1000.0\n",
      "In Rank 1 Dobseil with two pair: Q♥Q♣J♥J♦ with A♥ kicker and collects 1000.0\n",
      "In Rank 1 Eobseil with two pair: Q♥Q♣J♥J♦ with A♥ kicker and collects 1000.0\n"
     ]
    }
   ],
   "source": [
    "players = [\n",
    "\n",
    "        Player(\"Abseil\", chips=10, current_position=\"BTN\", pre_flop=[\"call\"], post_flop=[\"raise to 5\", \"call\"], cards=[Card(\"Ah\")]),\n",
    "        Player(\"Bobseil\", chips=10, current_position=\"SB\", pre_flop=[\"call\"], cards=[Card(\"Ah\")], post_flop=[\"check\", \"raise to 10\"], turn=[], river=[]),\n",
    "        Player(\"Cobseil\", chips=1000, current_position=\"BB\", pre_flop=[\"check\"], cards=[Card(\"Ah\")], post_flop=[\"check\", \"call\", \"call\"], turn=[], river=[]),\n",
    "        Player(\"Dobseil\", chips=1000, current_position=\"HJ\", pre_flop=[\"call\"], cards=[Card(\"Ah\")], post_flop=[\"check\", \"raise to 1000\"], turn=[], river=[]),\n",
    "        Player(\"Eobseil\", chips=10000, current_position=\"CO\", pre_flop=[\"call\"], cards=[Card(\"Ah\")], post_flop=[\"check\", \"raise to 10000\"], turn=[], river=[]),\n",
    "\n",
    "           ]\n",
    "\n",
    "game = Poker(players, table_cards=[Card(\"Qh\"), Card(\"Qc\"), Card(\"Jh\"), Card(\"Jd\"), Card(\"2h\")])\n",
    "\n",
    "game.play_game()"
   ],
   "metadata": {
    "collapsed": false,
    "pycharm": {
     "name": "#%%\n"
    }
   }
  },
  {
   "cell_type": "code",
   "execution_count": 6,
   "outputs": [],
   "source": [],
   "metadata": {
    "collapsed": false,
    "pycharm": {
     "name": "#%%\n"
    }
   }
  }
 ],
 "metadata": {
  "kernelspec": {
   "name": "python3",
   "language": "python",
   "display_name": "Python 3"
  },
  "language_info": {
   "codemirror_mode": {
    "name": "ipython",
    "version": 2
   },
   "file_extension": ".py",
   "mimetype": "text/x-python",
   "name": "python",
   "nbconvert_exporter": "python",
   "pygments_lexer": "ipython2",
   "version": "2.7.6"
  }
 },
 "nbformat": 4,
 "nbformat_minor": 0
}