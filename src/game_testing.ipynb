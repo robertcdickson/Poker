{
 "cells": [
  {
   "cell_type": "code",
   "execution_count": 1,
   "metadata": {
    "collapsed": true,
    "pycharm": {
     "name": "#%%\n"
    }
   },
   "outputs": [
    {
     "name": "stdout",
     "output_type": "stream",
     "text": [
      "========================================\n",
      "a: A♥6♦\n",
      "b: T♦3♥\n",
      "c: 5♣2♣\n",
      "========================================\n",
      "b posts small blind\n",
      "c posts big blind\n",
      "========================================\n",
      "                pre-flop                \n",
      "========================================\n",
      "a fold\n",
      "b raise to 25\n",
      "c raise to 50\n",
      "b call\n",
      "----------------------------------------\n",
      "Pot size is 100.0 BB\n",
      "========================================\n",
      "Flop cards: K♣9♥J♣\n",
      "========================================\n",
      "               post-flop                \n",
      "========================================\n",
      "b check\n",
      "c raise to 900\n",
      "b fold\n",
      "----------------------------------------\n",
      "Pot size is 1000.0 BB\n",
      "========================================\n",
      "c wins 1000.0 BB and has 1050.0 BB\n",
      "(0, 14, 14)\n",
      "(5, 14, [A♥, T♥, 3♥, 2♥, 9♥])\n",
      "(1, 13, [K♠, K♦])\n"
     ]
    }
   ],
   "source": [
    "from poker_main import *\n",
    "\n",
    "players = [\n",
    "\n",
    "        Player(\"a\", chips=10, current_position=\"BTN\", pre_flop=[\"fold\"], cards=[Card(\"K\", \"hearts\"), Card(\"8\", \"clubs\")]),\n",
    "        Player(\"b\", chips=100, current_position=\"SB\", pre_flop=[\"raise to 25\", \"call\"], post_flop=[\"check\", \"fold\"], cards=[Card(\"2\", \"hearts\"), Card(\"9\", \"hearts\")]),\n",
    "        Player(\"c\", chips=1000, current_position=\"BB\", pre_flop=[\"raise to 50\", \"fold\"], post_flop=[\"raise to 900\"], cards=[Card(\"K\", \"spades\"), Card(\"K\", \"diamonds\")]),\n",
    "\n",
    "           ]\n",
    "\n",
    "game = Poker(players)\n",
    "\n",
    "game.play_game()\n",
    "\n",
    "analysis = BoardAnalysis(players, [Card(\"A\", \"hearts\"), Card(\"T\", \"hearts\"), Card(\"3\", \"hearts\")])\n",
    "analysis.analyse_cards()"
   ]
  }
 ],
 "metadata": {
  "kernelspec": {
   "display_name": "Python 3",
   "language": "python",
   "name": "python3"
  },
  "language_info": {
   "codemirror_mode": {
    "name": "ipython",
    "version": 2
   },
   "file_extension": ".py",
   "mimetype": "text/x-python",
   "name": "python",
   "nbconvert_exporter": "python",
   "pygments_lexer": "ipython2",
   "version": "2.7.6"
  }
 },
 "nbformat": 4,
 "nbformat_minor": 0
}