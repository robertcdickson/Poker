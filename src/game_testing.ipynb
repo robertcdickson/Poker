{
 "cells": [
  {
   "cell_type": "code",
   "execution_count": 1,
   "metadata": {
    "collapsed": true,
    "pycharm": {
     "name": "#%%\n"
    }
   },
   "outputs": [
    {
     "data": {
      "text/plain": "'players = [\\n\\n        Player(\"a\", chips=10, current_position=\"BTN\", pre_flop=[\"fold\"]),\\n        Player(\"b\", chips=1000, current_position=\"SB\", pre_flop=[\"raise to 25\", \"call\"], post_flop=[\"check\", \"call\"], turn=[\"check\"], river=[\"check\"]),\\n        Player(\"c\", chips=1000, current_position=\"BB\", pre_flop=[\"raise to 50\", \"fold\"], post_flop=[\"raise to 100\"], turn=[\"check\"], river=[\"check\"]),\\n\\n           ]\\n\\ngame = Poker(players)\\n\\ngame.play_game()\\n'"
     },
     "execution_count": 1,
     "metadata": {},
     "output_type": "execute_result"
    }
   ],
   "source": [
    "from poker_main import *\n",
    "\n",
    "\"\"\"players = [\n",
    "\n",
    "        Player(\"a\", chips=10, current_position=\"BTN\", pre_flop=[\"fold\"]),\n",
    "        Player(\"b\", chips=1000, current_position=\"SB\", pre_flop=[\"raise to 25\", \"call\"], post_flop=[\"check\", \"call\"], turn=[\"check\"], river=[\"check\"]),\n",
    "        Player(\"c\", chips=1000, current_position=\"BB\", pre_flop=[\"raise to 50\", \"fold\"], post_flop=[\"raise to 100\"], turn=[\"check\"], river=[\"check\"]),\n",
    "\n",
    "           ]\n",
    "\n",
    "game = Poker(players)\n",
    "\n",
    "game.play_game()\n",
    "\"\"\""
   ]
  },
  {
   "cell_type": "code",
   "execution_count": 2,
   "outputs": [
    {
     "name": "stdout",
     "output_type": "stream",
     "text": [
      "(hand class, best combo, class ranking, kickers)\n"
     ]
    }
   ],
   "source": [
    "# four of a kind test with low fours\n",
    "print(\"(hand class, best combo, class ranking, kickers)\")\n",
    "players = [\n",
    "\n",
    "        Player(\"High Card\", chips=10, current_position=\"BTN\", cards=[Card(\"9c\"), Card(\"8c\"), Card(\"6c\"), Card(\"4h\"), Card(\"2c\")]),\n",
    "        Player(\"One Pair\", chips=1000, current_position=\"SB\", cards=[Card(\"Ah\"), Card(\"Ah\"),  Card(\"6c\"), Card(\"4h\"), Card(\"2c\")]),\n",
    "        Player(\"Two Pair\", chips=1000, current_position=\"BB\", cards=[Card(\"2h\"), Card(\"2s\"), Card(\"3h\"), Card(\"3c\"), Card(\"Td\")]),\n",
    "        Player(\"Two Pair with 3 Pairs on Board\", chips=1000, current_position=\"BB\", cards=[Card(\"2h\"), Card(\"2s\"), Card(\"3h\"), Card(\"3c\"), Card(\"Ah\"), Card(\"Ac\"), Card(\"Td\")]),\n",
    "        Player(\"Three of a Kind\", chips=1000, current_position=\"BB\", cards=[Card(\"2h\"), Card(\"2s\"), Card(\"2d\"), Card(\"6c\"), Card(\"4h\"),]),\n",
    "        Player(\"Straight (Ace High)\", chips=1000, current_position=\"BB\", cards=[Card(\"Ah\"), Card(\"Ks\"), Card(\"Qd\"), Card(\"Js\"), Card(\"Td\")]),\n",
    "        Player(\"Straight (Ace Low)\", chips=1000, current_position=\"BB\", cards=[Card(\"Ah\"), Card(\"2s\"), Card(\"3d\"), Card(\"4s\"), Card(\"5d\")]),\n",
    "        Player(\"Flush\", chips=1000, current_position=\"BB\", cards=[Card(\"Ah\"), Card(\"Kh\"), Card(\"3h\"), Card(\"4h\"), Card(\"5h\")]),\n",
    "        Player(\"Full House\", chips=1000, current_position=\"BB\", cards=[Card(\"Ah\"), Card(\"Ac\"), Card(\"3h\"), Card(\"3s\"), Card(\"3d\")]),\n",
    "        Player(\"Four of a Kind\", chips=1000, current_position=\"BB\", cards=[Card(\"2h\"), Card(\"2s\"), Card(\"2d\"), Card(\"2c\"), Card(\"4h\"),]),\n",
    "        Player(\"Straight Flush\", chips=1000, current_position=\"BB\", cards=[Card(\"2h\"), Card(\"3h\"), Card(\"4h\"), Card(\"5h\"), Card(\"6h\"),]),\n",
    "        Player(\"Straight Flush (Ace Low)\", chips=1000, current_position=\"BB\", cards=[Card(\"2h\"), Card(\"3h\"), Card(\"4h\"), Card(\"5h\"), Card(\"Ah\"),]),\n",
    "        Player(\"Royal Flush\", chips=1000, current_position=\"BB\", cards=[Card(\"Th\"), Card(\"Jh\"), Card(\"Qh\"), Card(\"Kh\"), Card(\"Ah\")]),\n",
    "           ]\n",
    "table_cards = []\n",
    "analysis = BoardAnalysis(players, table_cards)\n"
   ],
   "metadata": {
    "collapsed": false,
    "pycharm": {
     "name": "#%%\n"
    }
   }
  },
  {
   "cell_type": "code",
   "execution_count": 3,
   "outputs": [
    {
     "name": "stdout",
     "output_type": "stream",
     "text": [
      "========================================\n",
      "Abseil: 4♣K♣\n",
      "Bobseil: K♦4♥\n",
      "Cobseil: T♥6♦\n",
      "========================================\n",
      "Bobseil posts small blind\n",
      "Cobseil posts big blind\n",
      "========================================\n",
      "                pre-flop                \n",
      "========================================\n",
      "Abseil raise to 1\n",
      "Bobseil call\n",
      "Cobseil call\n",
      "----------------------------------------\n",
      "Pot size is 3.0 BB\n",
      "========================================\n",
      "Flop cards: 6♠8♥2♦\n",
      "========================================\n",
      "               post-flop                \n",
      "========================================\n",
      "Bobseil raise to 10\n",
      "Cobseil call\n",
      "Abseil call\n",
      "Abseil is all in\n",
      "0\n",
      "----------------------------------------\n",
      "Pot size is 33.0 BB\n",
      "========================================\n",
      "Turn card: Q♦\n",
      "Table Cards: 6♠8♥2♦Q♦\n",
      "========================================\n",
      "                  turn                  \n",
      "========================================\n",
      "----------------------------------------\n",
      "Pot size is 33.0 BB\n",
      "========================================\n",
      "River card: 5♠\n",
      "Table Cards: 6♠8♥2♦Q♦5♠\n",
      "========================================\n",
      "                 river                  \n",
      "========================================\n",
      "----------------------------------------\n",
      "Pot size is 33.0 BB\n",
      "========================================\n",
      "----------------------------------------\n",
      "Abseil(4♣K♣): high card: K♣ with kickers Q♦8♥6♠5♠\n",
      "----------------------------------------\n",
      "Bobseil(K♦4♥): high card: K♦ with kickers Q♦8♥6♠5♠\n",
      "----------------------------------------\n",
      "Cobseil(T♥6♦): a pair: 6♠6♦ with kickers Q♦T♥8♥\n",
      "----------------------------------------\n",
      "Winner is Cobseil with a pair: 6♠6♦ with kickers Q♦T♥8♥ and collects 33.0\n"
     ]
    }
   ],
   "source": [
    "players = [\n",
    "\n",
    "        Player(\"Abseil\", chips=10, current_position=\"BTN\", pre_flop=[\"raise to 1\"], post_flop=[\"call\"], cards=[]),\n",
    "        Player(\"Bobseil\", chips=100, current_position=\"SB\", pre_flop=[\"call\"], cards=[], post_flop=[\"raise to 10\"], turn=[], river=[]),\n",
    "        Player(\"Cobseil\", chips=1000, current_position=\"BB\", pre_flop=[\"call\"], post_flop=[\"call\"], turn=[], river=[]),\n",
    "\n",
    "           ]\n",
    "\n",
    "game = Poker(players, table_cards=[])\n",
    "\n",
    "game.play_game()"
   ],
   "metadata": {
    "collapsed": false,
    "pycharm": {
     "name": "#%%\n"
    }
   }
  }
 ],
 "metadata": {
  "kernelspec": {
   "name": "python3",
   "language": "python",
   "display_name": "Python 3"
  },
  "language_info": {
   "codemirror_mode": {
    "name": "ipython",
    "version": 2
   },
   "file_extension": ".py",
   "mimetype": "text/x-python",
   "name": "python",
   "nbconvert_exporter": "python",
   "pygments_lexer": "ipython2",
   "version": "2.7.6"
  }
 },
 "nbformat": 4,
 "nbformat_minor": 0
}